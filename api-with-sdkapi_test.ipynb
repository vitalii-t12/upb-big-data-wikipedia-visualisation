{
  "nbformat": 4,
  "nbformat_minor": 0,
  "metadata": {
    "colab": {
      "provenance": [],
      "authorship_tag": "ABX9TyOmXw4nIbXmqInJdoNp7GLO",
      "include_colab_link": true
    },
    "kernelspec": {
      "name": "python3",
      "display_name": "Python 3"
    },
    "language_info": {
      "name": "python"
    }
  },
  "cells": [
    {
      "cell_type": "markdown",
      "metadata": {
        "id": "view-in-github",
        "colab_type": "text"
      },
      "source": [
        "<a href=\"https://colab.research.google.com/github/vitalii-t12/upb-big-data-wikipedia-visualisation/blob/api-testing/api-with-sdkapi_test.ipynb\" target=\"_parent\"><img src=\"https://colab.research.google.com/assets/colab-badge.svg\" alt=\"Open In Colab\"/></a>"
      ]
    },
    {
      "cell_type": "code",
      "execution_count": 4,
      "metadata": {
        "id": "ulgVqepoyRp-",
        "colab": {
          "base_uri": "https://localhost:8080/"
        },
        "outputId": "877e47a4-1216-404b-c124-b49b0b449e1c"
      },
      "outputs": [
        {
          "output_type": "stream",
          "name": "stdout",
          "text": [
            "Collecting git+https://github.com/Commonists/pageview-api.git\n",
            "  Cloning https://github.com/Commonists/pageview-api.git to /tmp/pip-req-build-9r8ndoxl\n",
            "  Running command git clone --filter=blob:none --quiet https://github.com/Commonists/pageview-api.git /tmp/pip-req-build-9r8ndoxl\n",
            "  Resolved https://github.com/Commonists/pageview-api.git to commit 39e8b3c3c82f64a500e3dd4f306451c81c7e31b7\n",
            "  \u001b[1;31merror\u001b[0m: \u001b[1msubprocess-exited-with-error\u001b[0m\n",
            "  \n",
            "  \u001b[31m×\u001b[0m \u001b[32mpython setup.py egg_info\u001b[0m did not run successfully.\n",
            "  \u001b[31m│\u001b[0m exit code: \u001b[1;36m1\u001b[0m\n",
            "  \u001b[31m╰─>\u001b[0m See above for output.\n",
            "  \n",
            "  \u001b[1;35mnote\u001b[0m: This error originates from a subprocess, and is likely not a problem with pip.\n",
            "  Preparing metadata (setup.py) ... \u001b[?25l\u001b[?25herror\n",
            "\u001b[1;31merror\u001b[0m: \u001b[1mmetadata-generation-failed\u001b[0m\n",
            "\n",
            "\u001b[31m×\u001b[0m Encountered error while generating package metadata.\n",
            "\u001b[31m╰─>\u001b[0m See above for output.\n",
            "\n",
            "\u001b[1;35mnote\u001b[0m: This is an issue with the package mentioned above, not pip.\n",
            "\u001b[1;36mhint\u001b[0m: See above for details.\n"
          ]
        }
      ],
      "source": [
        "# install pageview-api\n",
        "!pip install git+https://github.com/Commonists/pageview-api.git"
      ]
    },
    {
      "cell_type": "code",
      "source": [
        "# install mwviews\n",
        "!pip install mwviews"
      ],
      "metadata": {
        "colab": {
          "base_uri": "https://localhost:8080/"
        },
        "id": "2iiuV8grzSlm",
        "outputId": "7efdf52e-2ea3-4cc3-b3d5-5e6ea64a529d"
      },
      "execution_count": 3,
      "outputs": [
        {
          "output_type": "stream",
          "name": "stdout",
          "text": [
            "Collecting mwviews\n",
            "  Downloading mwviews-0.2.1-py3-none-any.whl.metadata (543 bytes)\n",
            "Requirement already satisfied: requests in /usr/local/lib/python3.10/dist-packages (from mwviews) (2.32.3)\n",
            "Requirement already satisfied: more-itertools in /usr/local/lib/python3.10/dist-packages (from mwviews) (10.5.0)\n",
            "Collecting docopt (from mwviews)\n",
            "  Downloading docopt-0.6.2.tar.gz (25 kB)\n",
            "  Preparing metadata (setup.py) ... \u001b[?25l\u001b[?25hdone\n",
            "Collecting mwcli (from mwviews)\n",
            "  Downloading mwcli-0.0.3-py2.py3-none-any.whl.metadata (1.2 kB)\n",
            "Collecting mwapi (from mwviews)\n",
            "  Downloading mwapi-0.6.1-py2.py3-none-any.whl.metadata (4.3 kB)\n",
            "Requirement already satisfied: aiohttp in /usr/local/lib/python3.10/dist-packages (from mwapi->mwviews) (3.11.10)\n",
            "Collecting para (from mwcli->mwviews)\n",
            "  Downloading para-0.0.8-py3-none-any.whl.metadata (2.0 kB)\n",
            "Collecting mwxml (from mwcli->mwviews)\n",
            "  Downloading mwxml-0.3.4-py2.py3-none-any.whl.metadata (2.2 kB)\n",
            "Requirement already satisfied: charset-normalizer<4,>=2 in /usr/local/lib/python3.10/dist-packages (from requests->mwviews) (3.4.0)\n",
            "Requirement already satisfied: idna<4,>=2.5 in /usr/local/lib/python3.10/dist-packages (from requests->mwviews) (3.10)\n",
            "Requirement already satisfied: urllib3<3,>=1.21.1 in /usr/local/lib/python3.10/dist-packages (from requests->mwviews) (2.2.3)\n",
            "Requirement already satisfied: certifi>=2017.4.17 in /usr/local/lib/python3.10/dist-packages (from requests->mwviews) (2024.12.14)\n",
            "Requirement already satisfied: aiohappyeyeballs>=2.3.0 in /usr/local/lib/python3.10/dist-packages (from aiohttp->mwapi->mwviews) (2.4.4)\n",
            "Requirement already satisfied: aiosignal>=1.1.2 in /usr/local/lib/python3.10/dist-packages (from aiohttp->mwapi->mwviews) (1.3.2)\n",
            "Requirement already satisfied: async-timeout<6.0,>=4.0 in /usr/local/lib/python3.10/dist-packages (from aiohttp->mwapi->mwviews) (4.0.3)\n",
            "Requirement already satisfied: attrs>=17.3.0 in /usr/local/lib/python3.10/dist-packages (from aiohttp->mwapi->mwviews) (24.3.0)\n",
            "Requirement already satisfied: frozenlist>=1.1.1 in /usr/local/lib/python3.10/dist-packages (from aiohttp->mwapi->mwviews) (1.5.0)\n",
            "Requirement already satisfied: multidict<7.0,>=4.5 in /usr/local/lib/python3.10/dist-packages (from aiohttp->mwapi->mwviews) (6.1.0)\n",
            "Requirement already satisfied: propcache>=0.2.0 in /usr/local/lib/python3.10/dist-packages (from aiohttp->mwapi->mwviews) (0.2.1)\n",
            "Requirement already satisfied: yarl<2.0,>=1.17.0 in /usr/local/lib/python3.10/dist-packages (from aiohttp->mwapi->mwviews) (1.18.3)\n",
            "Collecting mwtypes>=0.4.0 (from mwxml->mwcli->mwviews)\n",
            "  Downloading mwtypes-0.4.0-py2.py3-none-any.whl.metadata (1.3 kB)\n",
            "Requirement already satisfied: jsonschema>=2.5.1 in /usr/local/lib/python3.10/dist-packages (from mwxml->mwcli->mwviews) (4.23.0)\n",
            "Requirement already satisfied: jsonschema-specifications>=2023.03.6 in /usr/local/lib/python3.10/dist-packages (from jsonschema>=2.5.1->mwxml->mwcli->mwviews) (2024.10.1)\n",
            "Requirement already satisfied: referencing>=0.28.4 in /usr/local/lib/python3.10/dist-packages (from jsonschema>=2.5.1->mwxml->mwcli->mwviews) (0.35.1)\n",
            "Requirement already satisfied: rpds-py>=0.7.1 in /usr/local/lib/python3.10/dist-packages (from jsonschema>=2.5.1->mwxml->mwcli->mwviews) (0.22.3)\n",
            "Requirement already satisfied: typing-extensions>=4.1.0 in /usr/local/lib/python3.10/dist-packages (from multidict<7.0,>=4.5->aiohttp->mwapi->mwviews) (4.12.2)\n",
            "Collecting jsonable>=0.3.0 (from mwtypes>=0.4.0->mwxml->mwcli->mwviews)\n",
            "  Downloading jsonable-0.3.1-py2.py3-none-any.whl.metadata (1.6 kB)\n",
            "Downloading mwviews-0.2.1-py3-none-any.whl (9.8 kB)\n",
            "Downloading mwapi-0.6.1-py2.py3-none-any.whl (12 kB)\n",
            "Downloading mwcli-0.0.3-py2.py3-none-any.whl (8.4 kB)\n",
            "Downloading mwxml-0.3.4-py2.py3-none-any.whl (27 kB)\n",
            "Downloading para-0.0.8-py3-none-any.whl (6.5 kB)\n",
            "Downloading mwtypes-0.4.0-py2.py3-none-any.whl (20 kB)\n",
            "Downloading jsonable-0.3.1-py2.py3-none-any.whl (11 kB)\n",
            "Building wheels for collected packages: docopt\n",
            "  Building wheel for docopt (setup.py) ... \u001b[?25l\u001b[?25hdone\n",
            "  Created wheel for docopt: filename=docopt-0.6.2-py2.py3-none-any.whl size=13706 sha256=781ec75721ab2131b0a154688810f7e2abcb8d7c438fe04f7bceff77e53647a6\n",
            "  Stored in directory: /root/.cache/pip/wheels/fc/ab/d4/5da2067ac95b36618c629a5f93f809425700506f72c9732fac\n",
            "Successfully built docopt\n",
            "Installing collected packages: para, jsonable, docopt, mwtypes, mwapi, mwxml, mwcli, mwviews\n",
            "Successfully installed docopt-0.6.2 jsonable-0.3.1 mwapi-0.6.1 mwcli-0.0.3 mwtypes-0.4.0 mwviews-0.2.1 mwxml-0.3.4 para-0.0.8\n"
          ]
        }
      ]
    },
    {
      "cell_type": "code",
      "source": [
        "from mwviews.api import PageviewsClient\n",
        "\n",
        "# Sends a descriptive User-Agent header with every request\n",
        "p = PageviewsClient(user_agent=\"<person@organization.org> Selfie, Cat, and Dog analysis\")\n",
        "\n",
        "p.top_articles('en.wikipedia', limit=10)\n",
        "p.top_by_country('en.wikipedia', limit=10)\n",
        "p.top_per_country('in', limit=10)\n",
        "p.article_views('en.wikipedia', ['Selfie', 'Cat'], granularity='monthly', start='20160201', end='20160331')\n",
        "\n",
        "# Feel free to add your own features in pull requests!"
      ],
      "metadata": {
        "colab": {
          "base_uri": "https://localhost:8080/"
        },
        "id": "2Vzf_jNozdvK",
        "outputId": "72e8989d-34a4-4f56-e42c-ac3c61779014"
      },
      "execution_count": 7,
      "outputs": [
        {
          "output_type": "execute_result",
          "data": {
            "text/plain": [
              "defaultdict(dict,\n",
              "            {datetime.datetime(2016, 3, 1, 0, 0): {'Selfie': 53200,\n",
              "              'Cat': 281375},\n",
              "             datetime.datetime(2016, 2, 1, 0, 0): {'Selfie': 57414,\n",
              "              'Cat': 295779}})"
            ]
          },
          "metadata": {},
          "execution_count": 7
        }
      ]
    },
    {
      "cell_type": "code",
      "source": [
        "p.article_views('en.wikipedia', ['Selfie', 'Cat', 'Dog'])"
      ],
      "metadata": {
        "colab": {
          "base_uri": "https://localhost:8080/"
        },
        "id": "gq2enU2-z8sx",
        "outputId": "5617a4bd-64bb-4150-b50d-15942ffaebb9"
      },
      "execution_count": 8,
      "outputs": [
        {
          "output_type": "execute_result",
          "data": {
            "text/plain": [
              "defaultdict(dict,\n",
              "            {datetime.datetime(2024, 12, 16, 0, 0): {'Selfie': 538,\n",
              "              'Cat': 21528,\n",
              "              'Dog': 8407},\n",
              "             datetime.datetime(2024, 12, 17, 0, 0): {'Selfie': 1225,\n",
              "              'Cat': 23743,\n",
              "              'Dog': 8128},\n",
              "             datetime.datetime(2024, 12, 18, 0, 0): {'Selfie': 423,\n",
              "              'Cat': 24833,\n",
              "              'Dog': 7336},\n",
              "             datetime.datetime(2024, 12, 19, 0, 0): {'Selfie': 441,\n",
              "              'Cat': 23266,\n",
              "              'Dog': 7836},\n",
              "             datetime.datetime(2024, 12, 20, 0, 0): {'Selfie': 732,\n",
              "              'Cat': 25404,\n",
              "              'Dog': 6882},\n",
              "             datetime.datetime(2024, 12, 21, 0, 0): {'Selfie': 375,\n",
              "              'Cat': 23072,\n",
              "              'Dog': 6504},\n",
              "             datetime.datetime(2024, 12, 22, 0, 0): {'Selfie': 344,\n",
              "              'Cat': 20747,\n",
              "              'Dog': 6824},\n",
              "             datetime.datetime(2024, 12, 23, 0, 0): {'Selfie': 396,\n",
              "              'Cat': 21499,\n",
              "              'Dog': 11861},\n",
              "             datetime.datetime(2024, 12, 24, 0, 0): {'Selfie': 372,\n",
              "              'Cat': 20756,\n",
              "              'Dog': 6814},\n",
              "             datetime.datetime(2024, 12, 25, 0, 0): {'Selfie': 426,\n",
              "              'Cat': 20464,\n",
              "              'Dog': 7406},\n",
              "             datetime.datetime(2024, 12, 26, 0, 0): {'Selfie': 448,\n",
              "              'Cat': 20455,\n",
              "              'Dog': 8625},\n",
              "             datetime.datetime(2024, 12, 27, 0, 0): {'Selfie': 407,\n",
              "              'Cat': 21156,\n",
              "              'Dog': 6836},\n",
              "             datetime.datetime(2024, 12, 28, 0, 0): {'Selfie': 360,\n",
              "              'Cat': 20535,\n",
              "              'Dog': 6240},\n",
              "             datetime.datetime(2024, 12, 29, 0, 0): {'Selfie': 364,\n",
              "              'Cat': 21371,\n",
              "              'Dog': 6303},\n",
              "             datetime.datetime(2024, 12, 30, 0, 0): {'Selfie': 388,\n",
              "              'Cat': 20526,\n",
              "              'Dog': 6548},\n",
              "             datetime.datetime(2024, 12, 31, 0, 0): {'Selfie': 366,\n",
              "              'Cat': 20622,\n",
              "              'Dog': 6667},\n",
              "             datetime.datetime(2025, 1, 1, 0, 0): {'Selfie': 341,\n",
              "              'Cat': 20461,\n",
              "              'Dog': 6473},\n",
              "             datetime.datetime(2025, 1, 2, 0, 0): {'Selfie': 374,\n",
              "              'Cat': 25117,\n",
              "              'Dog': 11251},\n",
              "             datetime.datetime(2025, 1, 3, 0, 0): {'Selfie': 446,\n",
              "              'Cat': 20902,\n",
              "              'Dog': 16360},\n",
              "             datetime.datetime(2025, 1, 4, 0, 0): {'Selfie': 422,\n",
              "              'Cat': 20736,\n",
              "              'Dog': 16155},\n",
              "             datetime.datetime(2025, 1, 5, 0, 0): {'Selfie': 447,\n",
              "              'Cat': 21644,\n",
              "              'Dog': 16035},\n",
              "             datetime.datetime(2025, 1, 6, 0, 0): {'Selfie': 430,\n",
              "              'Cat': 22978,\n",
              "              'Dog': 16085},\n",
              "             datetime.datetime(2025, 1, 7, 0, 0): {'Selfie': 372,\n",
              "              'Cat': 23400,\n",
              "              'Dog': 16640},\n",
              "             datetime.datetime(2025, 1, 8, 0, 0): {'Selfie': 390,\n",
              "              'Cat': 24001,\n",
              "              'Dog': 16752},\n",
              "             datetime.datetime(2025, 1, 9, 0, 0): {'Selfie': 362,\n",
              "              'Cat': 23331,\n",
              "              'Dog': 17711},\n",
              "             datetime.datetime(2025, 1, 10, 0, 0): {'Selfie': 386,\n",
              "              'Cat': 23333,\n",
              "              'Dog': 18342},\n",
              "             datetime.datetime(2025, 1, 11, 0, 0): {'Selfie': 388,\n",
              "              'Cat': 21509,\n",
              "              'Dog': 16789},\n",
              "             datetime.datetime(2025, 1, 12, 0, 0): {'Selfie': 389,\n",
              "              'Cat': 21986,\n",
              "              'Dog': 15846},\n",
              "             datetime.datetime(2025, 1, 13, 0, 0): {'Selfie': 395,\n",
              "              'Cat': 22935,\n",
              "              'Dog': 17148},\n",
              "             datetime.datetime(2025, 1, 14, 0, 0): {'Selfie': 394,\n",
              "              'Cat': 23433,\n",
              "              'Dog': 22376},\n",
              "             datetime.datetime(2025, 1, 15, 0, 0): {'Selfie': None,\n",
              "              'Cat': None,\n",
              "              'Dog': None}})"
            ]
          },
          "metadata": {},
          "execution_count": 8
        }
      ]
    },
    {
      "cell_type": "code",
      "source": [
        "p.project_views(['ro.wikipedia', 'de.wikipedia', 'commons.wikimedia'])"
      ],
      "metadata": {
        "colab": {
          "base_uri": "https://localhost:8080/"
        },
        "id": "BJiRb9a_0lnR",
        "outputId": "8f3099d7-650c-428a-ff2c-05368e765bca"
      },
      "execution_count": 9,
      "outputs": [
        {
          "output_type": "execute_result",
          "data": {
            "text/plain": [
              "defaultdict(dict,\n",
              "            {datetime.datetime(2024, 12, 16, 0, 0): {'ro.wikipedia': 2015154,\n",
              "              'de.wikipedia': 34037840,\n",
              "              'commons.wikimedia': 18537907},\n",
              "             datetime.datetime(2024, 12, 17, 0, 0): {'ro.wikipedia': 1972010,\n",
              "              'de.wikipedia': 34224677,\n",
              "              'commons.wikimedia': 18607441},\n",
              "             datetime.datetime(2024, 12, 18, 0, 0): {'ro.wikipedia': 1912681,\n",
              "              'de.wikipedia': 35361056,\n",
              "              'commons.wikimedia': 17844159},\n",
              "             datetime.datetime(2024, 12, 19, 0, 0): {'ro.wikipedia': 1910213,\n",
              "              'de.wikipedia': 35441508,\n",
              "              'commons.wikimedia': 17032623},\n",
              "             datetime.datetime(2024, 12, 20, 0, 0): {'ro.wikipedia': 1911305,\n",
              "              'de.wikipedia': 32683110,\n",
              "              'commons.wikimedia': 17788618},\n",
              "             datetime.datetime(2024, 12, 21, 0, 0): {'ro.wikipedia': 1917021,\n",
              "              'de.wikipedia': 33307737,\n",
              "              'commons.wikimedia': 17697559},\n",
              "             datetime.datetime(2024, 12, 22, 0, 0): {'ro.wikipedia': 2006553,\n",
              "              'de.wikipedia': 38402468,\n",
              "              'commons.wikimedia': 17332518},\n",
              "             datetime.datetime(2024, 12, 23, 0, 0): {'ro.wikipedia': 1941510,\n",
              "              'de.wikipedia': 34725900,\n",
              "              'commons.wikimedia': 17683613},\n",
              "             datetime.datetime(2024, 12, 24, 0, 0): {'ro.wikipedia': 1720922,\n",
              "              'de.wikipedia': 32256542,\n",
              "              'commons.wikimedia': 17696565},\n",
              "             datetime.datetime(2024, 12, 25, 0, 0): {'ro.wikipedia': 1993902,\n",
              "              'de.wikipedia': 38571674,\n",
              "              'commons.wikimedia': 17806526},\n",
              "             datetime.datetime(2024, 12, 26, 0, 0): {'ro.wikipedia': 2207717,\n",
              "              'de.wikipedia': 38879306,\n",
              "              'commons.wikimedia': 17109538},\n",
              "             datetime.datetime(2024, 12, 27, 0, 0): {'ro.wikipedia': 2134307,\n",
              "              'de.wikipedia': 37848645,\n",
              "              'commons.wikimedia': 16970799},\n",
              "             datetime.datetime(2024, 12, 28, 0, 0): {'ro.wikipedia': 2219764,\n",
              "              'de.wikipedia': 37197663,\n",
              "              'commons.wikimedia': 16808016},\n",
              "             datetime.datetime(2024, 12, 29, 0, 0): {'ro.wikipedia': 2170054,\n",
              "              'de.wikipedia': 41588361,\n",
              "              'commons.wikimedia': 16347199},\n",
              "             datetime.datetime(2024, 12, 30, 0, 0): {'ro.wikipedia': 1963204,\n",
              "              'de.wikipedia': 37322963,\n",
              "              'commons.wikimedia': 16982473},\n",
              "             datetime.datetime(2024, 12, 31, 0, 0): {'ro.wikipedia': 2065676,\n",
              "              'de.wikipedia': 36150413,\n",
              "              'commons.wikimedia': 15940883},\n",
              "             datetime.datetime(2025, 1, 1, 0, 0): {'ro.wikipedia': 2245445,\n",
              "              'de.wikipedia': 40653195,\n",
              "              'commons.wikimedia': 16149185},\n",
              "             datetime.datetime(2025, 1, 2, 0, 0): {'ro.wikipedia': 2216552,\n",
              "              'de.wikipedia': 37950613,\n",
              "              'commons.wikimedia': 15865020},\n",
              "             datetime.datetime(2025, 1, 3, 0, 0): {'ro.wikipedia': 2368615,\n",
              "              'de.wikipedia': 39734284,\n",
              "              'commons.wikimedia': 17634279},\n",
              "             datetime.datetime(2025, 1, 4, 0, 0): {'ro.wikipedia': 2369770,\n",
              "              'de.wikipedia': 40348095,\n",
              "              'commons.wikimedia': 16970613},\n",
              "             datetime.datetime(2025, 1, 5, 0, 0): {'ro.wikipedia': 2362950,\n",
              "              'de.wikipedia': 44227575,\n",
              "              'commons.wikimedia': 16035724},\n",
              "             datetime.datetime(2025, 1, 6, 0, 0): {'ro.wikipedia': 2326130,\n",
              "              'de.wikipedia': 41309935,\n",
              "              'commons.wikimedia': 15567042},\n",
              "             datetime.datetime(2025, 1, 7, 0, 0): {'ro.wikipedia': 2343465,\n",
              "              'de.wikipedia': 39022799,\n",
              "              'commons.wikimedia': 15957847},\n",
              "             datetime.datetime(2025, 1, 8, 0, 0): {'ro.wikipedia': 2238924,\n",
              "              'de.wikipedia': 38736263,\n",
              "              'commons.wikimedia': 16454007},\n",
              "             datetime.datetime(2025, 1, 9, 0, 0): {'ro.wikipedia': 2289772,\n",
              "              'de.wikipedia': 37316753,\n",
              "              'commons.wikimedia': 17249187},\n",
              "             datetime.datetime(2025, 1, 10, 0, 0): {'ro.wikipedia': 2068468,\n",
              "              'de.wikipedia': 36786884,\n",
              "              'commons.wikimedia': 17101471},\n",
              "             datetime.datetime(2025, 1, 11, 0, 0): {'ro.wikipedia': 2206916,\n",
              "              'de.wikipedia': 37575065,\n",
              "              'commons.wikimedia': 17104633},\n",
              "             datetime.datetime(2025, 1, 12, 0, 0): {'ro.wikipedia': 2310159,\n",
              "              'de.wikipedia': 39897244,\n",
              "              'commons.wikimedia': 17950602},\n",
              "             datetime.datetime(2025, 1, 13, 0, 0): {'ro.wikipedia': 2262770,\n",
              "              'de.wikipedia': 37677332,\n",
              "              'commons.wikimedia': 15812095},\n",
              "             datetime.datetime(2025, 1, 14, 0, 0): {'ro.wikipedia': 2577238,\n",
              "              'de.wikipedia': 37544053,\n",
              "              'commons.wikimedia': 16192305},\n",
              "             datetime.datetime(2025, 1, 15, 0, 0): {'ro.wikipedia': None,\n",
              "              'de.wikipedia': None,\n",
              "              'commons.wikimedia': None}})"
            ]
          },
          "metadata": {},
          "execution_count": 9
        }
      ]
    },
    {
      "cell_type": "code",
      "source": [
        "from mwviews.api import PageviewsClient\n",
        "\n",
        "# USER_AGENT = 'UPB-project (veryprettystudent@gmail.com)'\n",
        "USER_AGENT = 'MyWikiApp/1.0 (myemail@example.com)'\n",
        "\n",
        "# Initialize the Pageviews Client\n",
        "client = PageviewsClient(USER_AGENT)\n",
        "\n",
        "# Specify the project (e.g., English Wikipedia)\n",
        "project = 'en.wikipedia'\n",
        "\n",
        "# Fetch the top articles for a given project\n",
        "# Optionally, specify the date, if not it will return the latest data\n",
        "try:\n",
        "    top_articles = client.top_articles(project)\n",
        "    print(top_articles)\n",
        "    for article in top_articles[:10]:  # Display the top 10 articles\n",
        "      print(f\"Title: {article['article']}, Views: {article['views']}, Rank: {article['rank']}\")\n",
        "except Exception as e:\n",
        "    print(f\"Error fetching top articles: {e}\")\n"
      ],
      "metadata": {
        "colab": {
          "base_uri": "https://localhost:8080/"
        },
        "id": "RGVlShiD8wf2",
        "outputId": "735047dd-310b-4ae8-ede2-8792db4a77b9"
      },
      "execution_count": 18,
      "outputs": [
        {
          "output_type": "stream",
          "name": "stdout",
          "text": [
            "[{'article': 'Main_Page', 'views': 4642085, 'rank': 1}, {'article': 'Special:Search', 'views': 1331741, 'rank': 2}, {'article': 'Wikipedia:Featured_pictures', 'views': 513505, 'rank': 3}, {'article': 'Pete_Hegseth', 'views': 396342, 'rank': 4}, {'article': 'Tony_Slattery', 'views': 305211, 'rank': 5}, {'article': 'Neil_Gaiman', 'views': 253707, 'rank': 6}, {'article': 'Pentagón_Jr.', 'views': 209150, 'rank': 7}, {'article': 'Kumbh_Mela', 'views': 190245, 'rank': 8}, {'article': 'Game_Changer_(film)', 'views': 177646, 'rank': 9}, {'article': 'Mark_Michael_Hutchinson', 'views': 143087, 'rank': 10}, {'article': 'Rachel_Platten', 'views': 138684, 'rank': 11}, {'article': 'Deaths_in_2025', 'views': 131205, 'rank': 12}, {'article': 'Josie_Totah', 'views': 126358, 'rank': 13}, {'article': 'Makar_Sankranti', 'views': 118829, 'rank': 14}, {'article': '.xxx', 'views': 116345, 'rank': 15}, {'article': 'XNXX', 'views': 113498, 'rank': 16}, {'article': 'January_2025_Southern_California_wildfires', 'views': 112274, 'rank': 17}, {'article': 'Amanda_Palmer', 'views': 106418, 'rank': 18}, {'article': 'Squid_Game_season_2', 'views': 100635, 'rank': 19}, {'article': 'American_Primeval', 'views': 98651, 'rank': 20}, {'article': 'Sam_Darnold', 'views': 96766, 'rank': 21}, {'article': 'Robbie_Williams', 'views': 92383, 'rank': 22}, {'article': 'Better_Man_(film)', 'views': 92333, 'rank': 23}, {'article': 'Nosferatu_(2024_film)', 'views': 88051, 'rank': 24}, {'article': 'Pushpa_2:_The_Rule', 'views': 84875, 'rank': 25}, {'article': 'Greenland', 'views': 80123, 'rank': 26}, {'article': 'Squid_Game', 'views': 79735, 'rank': 27}, {'article': 'Elon_Musk', 'views': 75508, 'rank': 28}, {'article': 'Cleopatra', 'views': 75297, 'rank': 29}, {'article': 'Brigham_Young', 'views': 74969, 'rank': 30}, {'article': 'Marianne_Bachmeier', 'views': 73063, 'rank': 31}, {'article': 'Carrie_Underwood', 'views': 71237, 'rank': 32}, {'article': 'ASEAN', 'views': 70563, 'rank': 33}, {'article': 'Apple_Network_Server', 'views': 68954, 'rank': 34}, {'article': 'Donald_Trump', 'views': 66900, 'rank': 35}, {'article': 'Xiaohongshu', 'views': 66411, 'rank': 36}, {'article': \"Kevin_O'Connell_(American_football)\", 'views': 66102, 'rank': 37}, {'article': 'Tammy_Duckworth', 'views': 65457, 'rank': 38}, {'article': 'João_Fonseca_(tennis)', 'views': 64585, 'rank': 39}, {'article': 'Mark_Carney', 'views': 64204, 'rank': 40}, {'article': 'Royal_Rumble_(2025)', 'views': 63599, 'rank': 41}, {'article': 'ChatGPT', 'views': 63541, 'rank': 42}, {'article': 'Portal:Current_events', 'views': 63185, 'rank': 43}, {'article': 'Matthew_Stafford', 'views': 63112, 'rank': 44}, {'article': 'Deion_Sanders', 'views': 62579, 'rank': 45}, {'article': 'List_of_highest-grossing_Indian_films', 'views': 60376, 'rank': 46}, {'article': 'Charles_Sobhraj', 'views': 60254, 'rank': 47}, {'article': 'Tulip_Siddiq', 'views': 59770, 'rank': 48}, {'article': 'Khyree_Jackson', 'views': 58612, 'rank': 49}, {'article': 'Biggest_ball_of_twine', 'views': 58410, 'rank': 50}, {'article': 'Fateh_(2025_film)', 'views': 56921, 'rank': 51}, {'article': 'Palisades_Fire_(2025)', 'views': 56904, 'rank': 52}, {'article': 'Mike_Vrabel', 'views': 56389, 'rank': 53}, {'article': 'Madha_Gaja_Raja', 'views': 55062, 'rank': 54}, {'article': 'Marco_(2024_film)', 'views': 55050, 'rank': 55}, {'article': 'Bigg_Boss_(Tamil_TV_series)_season_8', 'views': 54351, 'rank': 56}, {'article': 'Markwayne_Mullin', 'views': 54349, 'rank': 57}, {'article': 'YouTube', 'views': 54306, 'rank': 58}, {'article': 'Severance_(TV_series)', 'views': 53979, 'rank': 59}, {'article': 'Fénix_(wrestler)', 'views': 52084, 'rank': 60}, {'article': 'United_States', 'views': 52078, 'rank': 61}, {'article': 'Bad_Bunny', 'views': 51420, 'rank': 62}, {'article': 'Bob_Dylan', 'views': 50919, 'rank': 63}, {'article': 'Jack_Reed_(Rhode_Island_politician)', 'views': 50559, 'rank': 64}, {'article': 'Landman_(TV_series)', 'views': 50080, 'rank': 65}, {'article': 'Alex_de_Minaur', 'views': 49729, 'rank': 66}, {'article': 'TikTok', 'views': 49095, 'rank': 67}, {'article': 'Jerry_Springer', 'views': 48869, 'rank': 68}, {'article': \"2025_Australian_Open_–_Men's_singles\", 'views': 48592, 'rank': 69}, {'article': 'Karla_Sofía_Gascón', 'views': 48539, 'rank': 70}, {'article': 'Utah_War', 'views': 48282, 'rank': 71}, {'article': 'Pongal_(festival)', 'views': 48220, 'rank': 72}, {'article': 'Brothers_Home', 'views': 48106, 'rank': 73}, {'article': 'Sonic_the_Hedgehog_3_(film)', 'views': 47388, 'rank': 74}, {'article': 'Mike_McCarthy', 'views': 46906, 'rank': 75}, {'article': 'Babygirl', 'views': 46754, 'rank': 76}, {'article': 'Sex_worker', 'views': 46163, 'rank': 77}, {'article': 'Kasidit_Samrej', 'views': 45874, 'rank': 78}, {'article': 'List_of_Super_Bowl_champions', 'views': 45506, 'rank': 79}, {'article': 'Norovirus', 'views': 45316, 'rank': 80}, {'article': 'Mountain_Meadows_Massacre', 'views': 44989, 'rank': 81}, {'article': 'Geeta_and_Sanjay_Chopra_kidnapping_case', 'views': 44932, 'rank': 82}, {'article': 'Marilyn_Manson', 'views': 44642, 'rank': 83}, {'article': 'Village_People', 'views': 44641, 'rank': 84}, {'article': 'Mel_Gibson', 'views': 44574, 'rank': 85}, {'article': '2025_Prayag_Kumbh_Mela', 'views': 44425, 'rank': 86}, {'article': 'The_Brutalist', 'views': 44132, 'rank': 87}, {'article': 'Mufasa:_The_Lion_King', 'views': 43806, 'rank': 88}, {'article': 'Wicked_(2024_film)', 'views': 43695, 'rank': 89}, {'article': 'Sutton_Foster', 'views': 43526, 'rank': 90}, {'article': 'Sookshmadarshini', 'views': 43458, 'rank': 91}, {'article': 'The_Substance', 'views': 43437, 'rank': 92}, {'article': 'Zahan_Kapoor', 'views': 43372, 'rank': 93}, {'article': 'Bigg_Boss_(Hindi_TV_series)_season_18', 'views': 41549, 'rank': 94}, {'article': 'Karen_Bass', 'views': 41188, 'rank': 95}, {'article': 'Sean_McVay', 'views': 41003, 'rank': 96}, {'article': 'Santa_Ana_winds', 'views': 40933, 'rank': 97}, {'article': 'Emilia_Pérez', 'views': 40734, 'rank': 98}, {'article': 'Jimmy_Carter', 'views': 40507, 'rank': 99}, {'article': 'Gavin_Newsom', 'views': 39790, 'rank': 100}, {'article': 'Roger_Wicker', 'views': 39728, 'rank': 101}, {'article': 'Black_Warrant_(TV_series)', 'views': 39549, 'rank': 102}, {'article': 'Squid_Game_season_3', 'views': 39421, 'rank': 103}, {'article': 'Nottingham_Forest_F.C.', 'views': 38995, 'rank': 104}, {'article': 'Chris_Wood_(footballer,_born_1991)', 'views': 38364, 'rank': 105}, {'article': '2024_United_States_presidential_election', 'views': 38104, 'rank': 106}, {'article': 'Chris_Shula', 'views': 37984, 'rank': 107}, {'article': 'Bo_Burnham', 'views': 37238, 'rank': 108}, {'article': 'Wordle', 'views': 37100, 'rank': 109}, {'article': 'Soap_opera_effect', 'views': 36075, 'rank': 110}, {'article': 'Wikipedia', 'views': 35433, 'rank': 111}, {'article': 'Pan_Am_Flight_103', 'views': 35386, 'rank': 112}, {'article': 'Josette_Simon', 'views': 35250, 'rank': 113}, {'article': 'Instagram', 'views': 35214, 'rank': 114}, {'article': 'Gladiator_II', 'views': 35205, 'rank': 115}, {'article': 'Pacific_Palisades,_Los_Angeles', 'views': 34733, 'rank': 116}, {'article': 'Taylor_Kitsch', 'views': 34528, 'rank': 117}, {'article': 'Human_metapneumovirus', 'views': 34466, 'rank': 118}, {'article': 'Billy_Bob_Thornton', 'views': 34314, 'rank': 119}, {'article': 'Second_inauguration_of_Donald_Trump', 'views': 33991, 'rank': 120}, {'article': 'Mount_Takahe', 'views': 33862, 'rank': 121}, {'article': 'World_War_II', 'views': 33652, 'rank': 122}, {'article': 'Spencer_Pratt', 'views': 33258, 'rank': 123}, {'article': 'Rule_34', 'views': 32975, 'rank': 124}, {'article': 'T.O.P', 'views': 32951, 'rank': 125}, {'article': 'Star_Wars:_Skeleton_Crew', 'views': 32699, 'rank': 126}, {'article': 'Sol_Campbell', 'views': 32689, 'rank': 127}, {'article': 'Leslie_Charleson', 'views': 32671, 'rank': 128}, {'article': 'Kirsten_Gillibrand', 'views': 32612, 'rank': 129}, {'article': 'Los_Angeles', 'views': 32273, 'rank': 130}, {'article': 'Avicii', 'views': 32066, 'rank': 131}, {'article': 'Kraven_the_Hunter_(film)', 'views': 31892, 'rank': 132}, {'article': 'United_States_Secretary_of_Defense', 'views': 31886, 'rank': 133}, {'article': 'Thomas_Edison', 'views': 31830, 'rank': 134}, {'article': 'Mark_Zuckerberg', 'views': 31808, 'rank': 135}, {'article': 'Silo_(TV_series)', 'views': 31781, 'rank': 136}, {'article': 'Wolf_Man_(2025_film)', 'views': 31728, 'rank': 137}, {'article': 'Los_Angeles_Rams', 'views': 31665, 'rank': 138}, {'article': 'Demi_Moore', 'views': 31466, 'rank': 139}, {'article': 'Lloyd_Austin', 'views': 31463, 'rank': 140}, {'article': 'Lamine_Yamal', 'views': 31185, 'rank': 141}, {'article': 'Aaron_Pierre_(actor)', 'views': 31166, 'rank': 142}, {'article': \"2025_Australian_Open_–_Women's_singles\", 'views': 31092, 'rank': 143}, {'article': 'Cristiano_Ronaldo', 'views': 31031, 'rank': 144}, {'article': 'The_Blood_of_Dawnwalker', 'views': 31008, 'rank': 145}, {'article': 'Kadhalikka_Neramillai_(2025_film)', 'views': 30915, 'rank': 146}, {'article': 'Super_Bowl_LIX', 'views': 30529, 'rank': 147}, {'article': 'Tim_Kaine', 'views': 30430, 'rank': 148}, {'article': 'Phossy_jaw', 'views': 30101, 'rank': 149}, {'article': 'Martin_Luther_King_Jr.', 'views': 30064, 'rank': 150}, {'article': 'Yograj_Singh', 'views': 29979, 'rank': 151}, {'article': 'Betty_Gilpin', 'views': 29922, 'rank': 152}, {'article': 'Nosferatu', 'views': 29829, 'rank': 153}, {'article': 'Joni_Ernst', 'views': 29448, 'rank': 154}, {'article': 'Steve_Jobs', 'views': 29381, 'rank': 155}, {'article': 'Limonene', 'views': 29336, 'rank': 156}, {'article': 'Jeff_Baena', 'views': 29231, 'rank': 157}, {'article': 'XXX_(film_series)', 'views': 29150, 'rank': 158}, {'article': 'Martín_Zubimendi', 'views': 28945, 'rank': 159}, {'article': 'Puka_Nacua', 'views': 28665, 'rank': 160}, {'article': 'Ansel_Adams', 'views': 28477, 'rank': 161}, {'article': 'Timothée_Chalamet', 'views': 28393, 'rank': 162}, {'article': 'Leighton_Meester', 'views': 28331, 'rank': 163}, {'article': 'Den_of_Thieves_2:_Pantera', 'views': 28325, 'rank': 164}, {'article': 'Patrick_Mahomes', 'views': 28314, 'rank': 165}, {'article': 'List_of_California_wildfires', 'views': 28164, 'rank': 166}, {'article': 'Ariana_Grande', 'views': 27659, 'rank': 167}, {'article': 'Jerusalem_cross', 'views': 27511, 'rank': 168}, {'article': 'Emma_Raducanu', 'views': 27429, 'rank': 169}, {'article': 'Conclave_(film)', 'views': 27097, 'rank': 170}, {'article': 'Lee_Jung-jae', 'views': 27057, 'rank': 171}, {'article': 'Lohri', 'views': 27002, 'rank': 172}, {'article': \"2025_World_Men's_Handball_Championship\", 'views': 26635, 'rank': 173}, {'article': 'Raindrop_cake', 'views': 26634, 'rank': 174}, {'article': 'Zendaya', 'views': 26526, 'rank': 175}, {'article': 'Jim_Bridger', 'views': 26477, 'rank': 176}, {'article': '2025_Australian_Open', 'views': 26439, 'rank': 177}, {'article': 'Help:IPA/English', 'views': 26397, 'rank': 178}, {'article': 'Bonnie_Blue_(actress)', 'views': 26390, 'rank': 179}, {'article': 'Moana_2', 'views': 26343, 'rank': 180}, {'article': 'Troy_Aikman', 'views': 26308, 'rank': 181}, {'article': 'Lee_Byung-hun', 'views': 26272, 'rank': 182}, {'article': 'Jessica_Simpson', 'views': 26226, 'rank': 183}, {'article': 'The_Traitors_(American_TV_series)_season_3', 'views': 25762, 'rank': 184}, {'article': 'Ajith_Kumar', 'views': 25761, 'rank': 185}, {'article': 'The_Day_of_the_Jackal_(TV_series)', 'views': 25594, 'rank': 186}, {'article': 'Prayagraj', 'views': 25540, 'rank': 187}, {'article': 'Margaret_Qualley', 'views': 25511, 'rank': 188}, {'article': 'Goosebumps_(2023_TV_series)', 'views': 25503, 'rank': 189}, {'article': 'Peter_Berg', 'views': 25462, 'rank': 190}, {'article': 'Sakamoto_Days', 'views': 25441, 'rank': 191}, {'article': 'Jayden_Daniels', 'views': 25428, 'rank': 192}, {'article': 'India', 'views': 25168, 'rank': 193}, {'article': 'Ali_Larter', 'views': 25145, 'rank': 194}, {'article': 'January_14', 'views': 25102, 'rank': 195}, {'article': 'MrBeast', 'views': 24906, 'rank': 196}, {'article': 'Nawaf_Salam', 'views': 24896, 'rank': 197}, {'article': 'Nishesh_Basavareddy', 'views': 24868, 'rank': 198}, {'article': 'Katie_Boulter', 'views': 24796, 'rank': 199}, {'article': 'September_5_(film)', 'views': 24784, 'rank': 200}, {'article': 'Joe_Biden', 'views': 24699, 'rank': 201}, {'article': 'Cooper_Kupp', 'views': 24583, 'rank': 202}, {'article': 'Thanos_(Squid_Game)', 'views': 24505, 'rank': 203}, {'article': 'Tommy_Tuberville', 'views': 24369, 'rank': 204}, {'article': 'Eric_Johnson_(tight_end)', 'views': 24332, 'rank': 205}, {'article': 'A_Complete_Unknown', 'views': 24317, 'rank': 206}, {'article': 'Nandamuri_Balakrishna', 'views': 24239, 'rank': 207}, {'article': 'Rey_Fénix', 'views': 24166, 'rank': 208}, {'article': 'Hatsune_Miku', 'views': 24152, 'rank': 209}, {'article': '2024–25_NFL_playoffs', 'views': 24145, 'rank': 210}, {'article': 'Craig_Melvin', 'views': 24126, 'rank': 211}, {'article': 'Alexei_Popyrin', 'views': 23949, 'rank': 212}, {'article': 'Eagle_(British_comics)', 'views': 23946, 'rank': 213}, {'article': 'Marcus_Freeman', 'views': 23872, 'rank': 214}, {'article': 'Kunal_Kapoor_(actor,_born_1959)', 'views': 23838, 'rank': 215}, {'article': 'Squid_Game_season_1', 'views': 23672, 'rank': 216}, {'article': 'Tony_Book', 'views': 23604, 'rank': 217}, {'article': 'WhatsApp', 'views': 23463, 'rank': 218}, {'article': 'Heidi_Montag', 'views': 23270, 'rank': 219}, {'article': 'Paddy_Mayne', 'views': 23239, 'rank': 220}, {'article': 'Anil_Ravipudi', 'views': 23138, 'rank': 221}, {'article': 'Keelhauling', 'views': 23100, 'rank': 222}, {'article': 'List_of_presidents_of_the_United_States', 'views': 23049, 'rank': 223}, {'article': 'Aubrey_Plaza', 'views': 23016, 'rank': 224}, {'article': 'Michael_Cooper', 'views': 22991, 'rank': 225}, {'article': 'FC_Barcelona', 'views': 22958, 'rank': 226}, {'article': 'Alia_Bhatt', 'views': 22880, 'rank': 227}, {'article': 'Taylor_Sheridan', 'views': 22864, 'rank': 228}, {'article': 'Arman_Tsarukyan', 'views': 22816, 'rank': 229}, {'article': 'Donyell_Malen', 'views': 22800, 'rank': 230}, {'article': 'Adolf_Hitler', 'views': 22773, 'rank': 231}, {'article': 'Karan_Brar', 'views': 22634, 'rank': 232}, {'article': 'Lady_Gaga', 'views': 22588, 'rank': 233}, {'article': 'LiAngelo_Ball', 'views': 22499, 'rank': 234}, {'article': 'Wikipedia:Contact_us', 'views': 22414, 'rank': 235}, {'article': 'Raveena_Tandon', 'views': 22411, 'rank': 236}, {'article': 'Jared_Verse', 'views': 22409, 'rank': 237}, {'article': 'List_of_Mayday_episodes', 'views': 22353, 'rank': 238}, {'article': 'Rashida_Jones', 'views': 22277, 'rank': 239}, {'article': 'BBC_World_Service', 'views': 22263, 'rank': 240}, {'article': 'File:WhatsApp.svg', 'views': 22088, 'rank': 241}, {'article': 'United_Kingdom', 'views': 22032, 'rank': 242}, {'article': 'Conestoga_wagon', 'views': 21978, 'rank': 243}, {'article': 'Lyra_Valkyria', 'views': 21944, 'rank': 244}, {'article': 'Benny_Blanco', 'views': 21887, 'rank': 245}, {'article': 'Minnesota_Vikings', 'views': 21847, 'rank': 246}, {'article': 'Google', 'views': 21845, 'rank': 247}, {'article': 'ByteDance', 'views': 21728, 'rank': 248}, {'article': 'Facebook', 'views': 21698, 'rank': 249}, {'article': 'XXXX', 'views': 21518, 'rank': 250}, {'article': 'Wicked_(musical)', 'views': 21483, 'rank': 251}, {'article': 'Gong_Yoo', 'views': 21446, 'rank': 252}, {'article': 'John_Cena', 'views': 21396, 'rank': 253}, {'article': 'Matz_Sels', 'views': 21328, 'rank': 254}, {'article': 'Daaku_Maharaaj', 'views': 21281, 'rank': 255}, {'article': 'Sabrina_Carpenter', 'views': 21181, 'rank': 256}, {'article': 'Israel–Hamas_war', 'views': 21151, 'rank': 257}, {'article': 'Nuno_Espírito_Santo', 'views': 21150, 'rank': 258}, {'article': 'Russian_invasion_of_Ukraine', 'views': 21134, 'rank': 259}, {'article': 'Tom_Holland', 'views': 21057, 'rank': 260}, {'article': 'Censorship_of_TikTok', 'views': 21023, 'rank': 261}, {'article': 'Fort_Bridger', 'views': 21019, 'rank': 262}, {'article': 'Laurene_Powell_Jobs', 'views': 20869, 'rank': 263}, {'article': 'List_of_countries_by_GDP_(nominal)', 'views': 20850, 'rank': 264}, {'article': 'Australian_Open', 'views': 20837, 'rank': 265}, {'article': 'Justin_Trudeau', 'views': 20791, 'rank': 266}, {'article': 'Pep_Guardiola', 'views': 20777, 'rank': 267}, {'article': 'California', 'views': 20698, 'rank': 268}, {'article': 'Rekhachithram', 'views': 20697, 'rank': 269}, {'article': 'David_Schwimmer', 'views': 20688, 'rank': 270}, {'article': '2024_NFL_draft', 'views': 20676, 'rank': 271}, {'article': 'Jerry_Jones', 'views': 20647, 'rank': 272}, {'article': 'Hugh_Jackman', 'views': 20539, 'rank': 273}, {'article': 'Baby_John_(film)', 'views': 20522, 'rank': 274}, {'article': 'Nicole_Kidman', 'views': 20515, 'rank': 275}, {'article': 'Sean_Combs', 'views': 20476, 'rank': 276}, {'article': 'National_Payments_Corporation_of_India', 'views': 20431, 'rank': 277}, {'article': 'Diontae_Johnson', 'views': 20392, 'rank': 278}, {'article': 'Andrew_Tate', 'views': 20375, 'rank': 279}, {'article': 'Canada', 'views': 20280, 'rank': 280}, {'article': 'Frank_Costello', 'views': 20260, 'rank': 281}, {'article': 'JD_Vance', 'views': 20248, 'rank': 282}, {'article': 'OnlyFans', 'views': 20236, 'rank': 283}, {'article': 'Restrictions_on_TikTok_in_the_United_States', 'views': 20229, 'rank': 284}, {'article': 'List_of_Marvel_Cinematic_Universe_films', 'views': 20188, 'rank': 285}, {'article': 'The_Pitt_(TV_series)', 'views': 20181, 'rank': 286}, {'article': 'Vettaiyan', 'views': 20052, 'rank': 287}, {'article': 'Yellowstone_(American_TV_series)', 'views': 20026, 'rank': 288}, {'article': 'Sankranthiki_Vasthunam', 'views': 20025, 'rank': 289}, {'article': 'Mathys_Tel', 'views': 20021, 'rank': 290}, {'article': 'Melania_Trump', 'views': 19977, 'rank': 291}, {'article': 'Blake_Lively', 'views': 19940, 'rank': 292}, {'article': 'Christine_Taylor', 'views': 19932, 'rank': 293}, {'article': 'Chernobyl_disaster', 'views': 19904, 'rank': 294}, {'article': 'Missing_You_(2025_TV_series)', 'views': 19846, 'rank': 295}, {'article': 'Creature_Commandos_(TV_series)', 'views': 19771, 'rank': 296}, {'article': 'Super_Bowl_LVI', 'views': 19662, 'rank': 297}, {'article': 'Mazie_Hirono', 'views': 19624, 'rank': 298}, {'article': 'Ben_Stiller', 'views': 19410, 'rank': 299}, {'article': 'Altadena,_California', 'views': 19380, 'rank': 300}, {'article': 'Elissa_Slotkin', 'views': 19375, 'rank': 301}, {'article': 'Bryan_Johnson', 'views': 19357, 'rank': 302}, {'article': 'Joseph_Aoun', 'views': 19343, 'rank': 303}, {'article': 'Fight_Song_(Rachel_Platten_song)', 'views': 19320, 'rank': 304}, {'article': 'Flight_Risk_(film)', 'views': 19310, 'rank': 305}, {'article': 'Daniil_Medvedev', 'views': 19307, 'rank': 306}, {'article': \"The_World's_Billionaires\", 'views': 19305, 'rank': 307}, {'article': 'Special:Watchlist', 'views': 19303, 'rank': 308}, {'article': 'Taylor_Swift', 'views': 19290, 'rank': 309}, {'article': 'Elizabeth_II', 'views': 19272, 'rank': 310}, {'article': 'Den_of_Thieves_(film)', 'views': 19266, 'rank': 311}, {'article': 'Victor_Willis', 'views': 19202, 'rank': 312}, {'article': 'Anora', 'views': 19139, 'rank': 313}, {'article': 'Eaton_Fire', 'views': 19126, 'rank': 314}, {'article': 'Saura_Lightfoot-Leon', 'views': 19093, 'rank': 315}, {'article': 'Jailer_(2023_Tamil_film)', 'views': 19035, 'rank': 316}, {'article': 'China', 'views': 18976, 'rank': 317}, {'article': 'Barack_Obama', 'views': 18959, 'rank': 318}, {'article': 'Premier_League', 'views': 18910, 'rank': 319}, {'article': 'Munich_massacre', 'views': 18905, 'rank': 320}, {'article': 'List_of_states_and_territories_of_the_United_States', 'views': 18854, 'rank': 321}, {'article': 'Pornhub', 'views': 18834, 'rank': 322}, {'article': 'Lionel_Messi', 'views': 18769, 'rank': 323}, {'article': 'Benjamin_Franklin', 'views': 18736, 'rank': 324}, {'article': 'Interstellar_(film)', 'views': 18623, 'rank': 325}, {'article': 'SAS:_Rogue_Heroes', 'views': 18618, 'rank': 326}, {'article': 'Camp_Fire_(2018)', 'views': 18575, 'rank': 327}, {'article': 'Jack_Smith_(lawyer)', 'views': 18548, 'rank': 328}, {'article': 'Hilary_Duff', 'views': 18510, 'rank': 329}, {'article': 'Pierre_Poilievre', 'views': 18363, 'rank': 330}, {'article': 'Neil_Gaiman_bibliography', 'views': 18257, 'rank': 331}, {'article': 'James_Rodríguez', 'views': 18228, 'rank': 332}, {'article': '2025_ICC_Champions_Trophy', 'views': 18182, 'rank': 333}, {'article': 'Alice_in_Borderland_(TV_series)', 'views': 18179, 'rank': 334}, {'article': 'Aishwarya_Rajesh', 'views': 18123, 'rank': 335}, {'article': 'Black_Doves', 'views': 18111, 'rank': 336}, {'article': 'Isaac_Newton', 'views': 18104, 'rank': 337}, {'article': 'Trans_woman', 'views': 18045, 'rank': 338}, {'article': 'Botic_van_de_Zandschulp', 'views': 18027, 'rank': 339}, {'article': 'David_Stirling', 'views': 18021, 'rank': 340}, {'article': 'Elvis_Presley', 'views': 17906, 'rank': 341}, {'article': 'Joseph_Smith', 'views': 17865, 'rank': 342}, {'article': 'Cynthia_Erivo', 'views': 17806, 'rank': 343}, {'article': 'Novak_Djokovic', 'views': 17750, 'rank': 344}, {'article': 'Nick_Kyrgios', 'views': 17704, 'rank': 345}, {'article': 'List_of_Hindi_films_of_2025', 'views': 17690, 'rank': 346}, {'article': 'George_W._Bush', 'views': 17675, 'rank': 347}, {'article': 'Lily-Rose_Depp', 'views': 17666, 'rank': 348}, {'article': 'Meenakshi_Chaudhary', 'views': 17584, 'rank': 349}, {'article': 'Companion_(film)', 'views': 17567, 'rank': 350}, {'article': 'Zoe_Saldaña', 'views': 17536, 'rank': 351}, {'article': 'Singapore', 'views': 17507, 'rank': 352}, {'article': 'Maria_Callas', 'views': 17506, 'rank': 353}, {'article': '2025_India_Open_(badminton)', 'views': 17476, 'rank': 354}, {'article': 'Jared_Allen', 'views': 17402, 'rank': 355}, {'article': 'HTTP_cookie', 'views': 17394, 'rank': 356}, {'article': 'Debora_Caprioglio', 'views': 17375, 'rank': 357}, {'article': 'Shōgun_(2024_TV_series)', 'views': 17359, 'rank': 358}, {'article': 'Wiki', 'views': 17358, 'rank': 359}, {'article': 'Antonio_Banderas', 'views': 17328, 'rank': 360}, {'article': 'Captain_America:_Brave_New_World', 'views': 17317, 'rank': 361}, {'article': 'Tyson_Fury', 'views': 17249, 'rank': 362}, {'article': 'UFC_311', 'views': 17224, 'rank': 363}, {'article': 'A_Real_Pain', 'views': 17201, 'rank': 364}, {'article': 'Younger_(TV_series)', 'views': 17182, 'rank': 365}, {'article': 'President_of_the_United_States', 'views': 17176, 'rank': 366}, {'article': 'Charles_III', 'views': 17093, 'rank': 367}, {'article': 'The_Sandman_(comic_book)', 'views': 17050, 'rank': 368}, {'article': 'Arnold_Schwarzenegger', 'views': 16972, 'rank': 369}, {'article': 'Utsuro-bune', 'views': 16964, 'rank': 370}, {'article': 'Netflix', 'views': 16940, 'rank': 371}, {'article': 'New_York_City', 'views': 16857, 'rank': 372}, {'article': 'Miron_Muslic', 'views': 16843, 'rank': 373}, {'article': 'Venom:_The_Last_Dance', 'views': 16842, 'rank': 374}, {'article': 'Islam_Makhachev', 'views': 16772, 'rank': 375}, {'article': '2025_Delhi_Legislative_Assembly_election', 'views': 16761, 'rank': 376}, {'article': 'Michael_Jackson', 'views': 16683, 'rank': 377}, {'article': 'Deaths_in_January_2025', 'views': 16681, 'rank': 378}, {'article': 'Tom_Brady', 'views': 16669, 'rank': 379}, {'article': 'Scarlett_Johansson', 'views': 16658, 'rank': 380}, {'article': 'World_War_I', 'views': 16656, 'rank': 381}, {'article': 'Don_Shula', 'views': 16624, 'rank': 382}, {'article': 'Keanu_Reeves', 'views': 16593, 'rank': 383}, {'article': 'The_Agency_(2024_TV_series)', 'views': 16577, 'rank': 384}, {'article': 'Aaron_Taylor-Johnson', 'views': 16566, 'rank': 385}, {'article': 'J._J._McCarthy', 'views': 16566, 'rank': 385}, {'article': 'Apple_Inc.', 'views': 16498, 'rank': 387}, {'article': '1337x', 'views': 16472, 'rank': 388}, {'article': 'Madeira', 'views': 16458, 'rank': 389}, {'article': 'Angelina_Jolie', 'views': 16435, 'rank': 390}, {'article': 'List_of_ethnic_slurs', 'views': 16430, 'rank': 391}, {'article': '2025_Liberal_Party_of_Canada_leadership_election', 'views': 16410, 'rank': 392}, {'article': 'Khvicha_Kvaratskhelia', 'views': 16403, 'rank': 393}, {'article': 'Australia', 'views': 16392, 'rank': 394}, {'article': 'List_of_American_films_of_2025', 'views': 16386, 'rank': 395}, {'article': 'Mike_Tomlin', 'views': 16341, 'rank': 396}, {'article': 'Brian_Matusz', 'views': 16338, 'rank': 397}, {'article': 'Bruce_Willis', 'views': 16324, 'rank': 398}, {'article': '2020_United_States_presidential_election', 'views': 16312, 'rank': 399}, {'article': 'David_Moyes', 'views': 16287, 'rank': 400}, {'article': \"Saturday_Night's_Main_Event\", 'views': 16286, 'rank': 401}, {'article': 'Vanangaan', 'views': 16209, 'rank': 402}, {'article': 'Solo_Leveling', 'views': 16121, 'rank': 403}, {'article': 'Vito_Genovese', 'views': 16098, 'rank': 404}, {'article': 'Japan', 'views': 16093, 'rank': 405}, {'article': 'Rosé_(singer)', 'views': 16083, 'rank': 406}, {'article': 'The_Rookie_(TV_series)', 'views': 16077, 'rank': 407}, {'article': 'Justine_Bateman', 'views': 16053, 'rank': 408}, {'article': 'Nikki_Glaser', 'views': 16038, 'rank': 409}, {'article': 'Caitlyn_Jenner', 'views': 15990, 'rank': 410}, {'article': 'Shavarsh_Karapetyan', 'views': 15980, 'rank': 411}, {'article': '2023–24_NFL_playoffs', 'views': 15947, 'rank': 412}, {'article': 'Joan_Baez', 'views': 15943, 'rank': 413}, {'article': 'Andrey_Rublev', 'views': 15881, 'rank': 414}, {'article': 'Billie_Eilish', 'views': 15867, 'rank': 415}, {'article': 'Queen_Victoria', 'views': 15854, 'rank': 416}, {'article': 'Anthony_Blunt', 'views': 15844, 'rank': 417}, {'article': 'Queer_(film)', 'views': 15841, 'rank': 418}, {'article': 'Lindsay_Czarniak', 'views': 15818, 'rank': 419}, {'article': 'Gaël_Monfils', 'views': 15779, 'rank': 420}, {'article': 'Selena_Gomez', 'views': 15773, 'rank': 421}, {'article': 'XXXTentacion', 'views': 15767, 'rank': 422}, {'article': 'Emerson_Jones', 'views': 15742, 'rank': 423}, {'article': 'Z-Library', 'views': 15725, 'rank': 424}, {'article': 'We_Live_in_Time', 'views': 15655, 'rank': 425}, {'article': 'Khabib_Nurmagomedov', 'views': 15601, 'rank': 426}, {'article': 'Ronald_Reagan', 'views': 15590, 'rank': 427}, {'article': '2025_Masters_(snooker)', 'views': 15557, 'rank': 428}, {'article': 'Nandamuri_Balakrishna_filmography', 'views': 15551, 'rank': 429}, {'article': 'Franklin_D._Roosevelt', 'views': 15475, 'rank': 430}, {'article': 'Jeanne_Shaheen', 'views': 15452, 'rank': 431}, {'article': 'Mukund_Varadarajan', 'views': 15443, 'rank': 432}, {'article': 'Brooke_Shields', 'views': 15426, 'rank': 433}, {'article': 'Mike_Fisher_(ice_hockey)', 'views': 15341, 'rank': 434}, {'article': 'Brian_Flores', 'views': 15327, 'rank': 435}, {'article': 'Bill_Skarsgård', 'views': 15319, 'rank': 436}, {'article': 'Ku_Klux_Klan', 'views': 15318, 'rank': 437}, {'article': '2025_Indian_Premier_League', 'views': 15311, 'rank': 438}, {'article': 'LeBron_James', 'views': 15295, 'rank': 439}, {'article': 'Jeffrey_Dahmer', 'views': 15281, 'rank': 440}, {'article': 'Russia', 'views': 15265, 'rank': 441}, {'article': 'Richard_Blumenthal', 'views': 15244, 'rank': 442}, {'article': 'Henry_VIII', 'views': 15240, 'rank': 443}, {'article': 'The_Traitors_(American_TV_series)', 'views': 15225, 'rank': 444}, {'article': 'From_(TV_series)', 'views': 15206, 'rank': 445}, {'article': 'Bhagavanth_Kesari', 'views': 15182, 'rank': 446}, {'article': 'Syria', 'views': 15180, 'rank': 447}, {'article': 'Twitter', 'views': 15178, 'rank': 448}, {'article': 'Tim_Sheehy_(American_politician)', 'views': 15154, 'rank': 449}, {'article': 'Mormons', 'views': 15136, 'rank': 450}, {'article': 'Sam_Elliott', 'views': 15111, 'rank': 451}, {'article': 'Aaron_Donald', 'views': 15106, 'rank': 452}, {'article': 'Tom_Cruise', 'views': 15102, 'rank': 453}, {'article': 'Jason_Bateman', 'views': 15097, 'rank': 454}, {'article': 'Ayda_Field', 'views': 15093, 'rank': 455}, {'article': 'Rashida_Jones_(television_executive)', 'views': 15065, 'rank': 456}, {'article': 'Murder_of_Sylvia_Likens', 'views': 15034, 'rank': 457}, {'article': 'Josh_Allen', 'views': 15028, 'rank': 458}, {'article': 'Martin_Luther_King_Jr._Day', 'views': 14977, 'rank': 459}, {'article': 'Indian_palm_squirrel', 'views': 14975, 'rank': 460}, {'article': 'The_Holocaust', 'views': 14968, 'rank': 461}, {'article': 'Diphylleia_grayi', 'views': 14951, 'rank': 462}, {'article': 'Snoop_Dogg', 'views': 14932, 'rank': 463}, {'article': 'Kaitlin_Olson', 'views': 14929, 'rank': 464}, {'article': 'Mia_Khalifa', 'views': 14918, 'rank': 465}, {'article': 'Generation_Z', 'views': 14902, 'rank': 466}, {'article': 'Ryan_Reynolds', 'views': 14896, 'rank': 467}, {'article': 'Khadija_Mushtaq', 'views': 14875, 'rank': 468}, {'article': 'Civil_War_(film)', 'views': 14845, 'rank': 469}, {'article': 'Murder_of_Joseph_Augustus_Zarelli', 'views': 14838, 'rank': 470}, {'article': 'Shroud_of_Turin', 'views': 14806, 'rank': 471}, {'article': 'Matt_Bloomfield', 'views': 14780, 'rank': 472}, {'article': \"Saturday_Night's_Main_Event_XXXVIII\", 'views': 14778, 'rank': 473}, {'article': 'Bam_Margera', 'views': 14770, 'rank': 474}, {'article': 'Diane_Morgan', 'views': 14752, 'rank': 475}, {'article': 'Michael_Caine', 'views': 14748, 'rank': 476}, {'article': '2024_in_film', 'views': 14748, 'rank': 476}, {'article': 'Dwayne_Johnson', 'views': 14699, 'rank': 478}, {'article': '2026_FIFA_World_Cup', 'views': 14694, 'rank': 479}, {'article': 'The_Alto_Knights', 'views': 14682, 'rank': 480}, {'article': 'Bruno_Mars', 'views': 14649, 'rank': 481}, {'article': 'John_F._Kennedy', 'views': 14647, 'rank': 482}, {'article': 'Slow_Horses', 'views': 14646, 'rank': 483}, {'article': '2025', 'views': 14616, 'rank': 484}, {'article': 'Dan_Campbell', 'views': 14613, 'rank': 485}, {'article': 'Chad_Gable', 'views': 14611, 'rank': 486}, {'article': 'Bluesky', 'views': 14610, 'rank': 487}, {'article': 'Nightbitch_(film)', 'views': 14603, 'rank': 488}, {'article': 'DuckDuckGo', 'views': 14524, 'rank': 489}, {'article': 'Super_Bowl', 'views': 14513, 'rank': 490}, {'article': 'Kieran_Culkin', 'views': 14489, 'rank': 491}, {'article': 'Keira_Knightley', 'views': 14481, 'rank': 492}, {'article': 'Kris_Kristofferson', 'views': 14437, 'rank': 493}, {'article': 'Jim_Jones_(rapper)', 'views': 14411, 'rank': 494}, {'article': 'Until_Dawn_(film)', 'views': 14382, 'rank': 495}, {'article': 'Thomas_Robb_(Ku_Klux_Klan)', 'views': 14380, 'rank': 496}, {'article': 'Prayag_Kumbh_Mela', 'views': 14359, 'rank': 497}, {'article': 'Rick_Caruso', 'views': 14352, 'rank': 498}, {'article': 'Rodney_Alcala', 'views': 14341, 'rank': 499}, {'article': 'Kim_Philby', 'views': 14314, 'rank': 500}, {'article': 'American_cheese', 'views': 14286, 'rank': 501}, {'article': 'David_Bowie', 'views': 14281, 'rank': 502}, {'article': 'Pamela_Anderson', 'views': 14233, 'rank': 503}, {'article': 'Michael_Shellenberger', 'views': 14228, 'rank': 504}, {'article': 'List_of_United_States_cities_by_population', 'views': 14221, 'rank': 505}, {'article': 'September_11_attacks', 'views': 14217, 'rank': 506}, {'article': 'Raphinha', 'views': 14181, 'rank': 507}, {'article': 'Periodic_table', 'views': 14168, 'rank': 508}, {'article': 'Aaron_Donnelly', 'views': 14157, 'rank': 509}, {'article': 'Matthew_McConaughey', 'views': 14145, 'rank': 510}, {'article': 'Gary_Peters', 'views': 14144, 'rank': 511}, {'article': 'Eva_Longoria', 'views': 14143, 'rank': 512}, {'article': 'Kendrick_Lamar', 'views': 14136, 'rank': 513}, {'article': 'Djimon_Hounsou', 'views': 14132, 'rank': 514}, {'article': 'Cameron_Diaz', 'views': 14131, 'rank': 515}, {'article': 'Mikey_Madison', 'views': 14116, 'rank': 516}, {'article': 'Enumclaw_horse_sex_case', 'views': 14108, 'rank': 517}, {'article': 'Adrien_Brody', 'views': 14106, 'rank': 518}, {'article': 'Real_Madrid_CF', 'views': 14101, 'rank': 519}, {'article': '2025_California_wildfires', 'views': 14059, 'rank': 520}, {'article': 'Peyton_Manning', 'views': 14058, 'rank': 521}, {'article': 'Z-Morh_Tunnel', 'views': 14056, 'rank': 522}, {'article': 'Opinion_polling_for_the_next_United_Kingdom_general_election', 'views': 14053, 'rank': 523}, {'article': 'Michael_Bidwill', 'views': 14045, 'rank': 524}, {'article': \"2025_N'Djamena_attack\", 'views': 14034, 'rank': 525}, {'article': 'Ashton_Kutcher', 'views': 14026, 'rank': 526}, {'article': 'Utrecht', 'views': 14008, 'rank': 527}, {'article': 'Aunt_Jemima', 'views': 14004, 'rank': 528}, {'article': 'Minneapolis_Miracle', 'views': 13957, 'rank': 529}, {'article': 'Amaran_(2024_film)', 'views': 13957, 'rank': 529}, {'article': 'Dune:_Prophecy', 'views': 13954, 'rank': 531}, {'article': 'Bill_Clinton', 'views': 13952, 'rank': 532}, {'article': 'Kimberly_Guilfoyle', 'views': 13905, 'rank': 533}, {'article': 'Roblox', 'views': 13905, 'rank': 533}, {'article': 'George_H._W._Bush', 'views': 13874, 'rank': 535}, {'article': 'Napoleon', 'views': 13869, 'rank': 536}, {'article': 'The_Last_Showgirl', 'views': 13857, 'rank': 537}, {'article': 'Harris_Dickinson', 'views': 13845, 'rank': 538}, {'article': 'Germany', 'views': 13841, 'rank': 539}, {'article': 'The_Sandman_(TV_series)', 'views': 13828, 'rank': 540}, {'article': 'Heretic_(film)', 'views': 13809, 'rank': 541}, {'article': 'Ravi_Mohan', 'views': 13782, 'rank': 542}, {'article': 'Noah_Wyle', 'views': 13761, 'rank': 543}, {'article': 'Anita_Bryant', 'views': 13759, 'rank': 544}, {'article': 'Brad_Pitt', 'views': 13757, 'rank': 545}, {'article': 'Russo-Ukrainian_War', 'views': 13751, 'rank': 546}, {'article': 'Adam_Brody', 'views': 13731, 'rank': 547}, {'article': 'Proposals_for_the_United_States_to_purchase_Greenland', 'views': 13699, 'rank': 548}, {'article': 'David_Eddings', 'views': 13691, 'rank': 549}, {'article': 'Ted_Lasso', 'views': 13688, 'rank': 550}, {'article': 'National_Football_League', 'views': 13661, 'rank': 551}, {'article': 'Eduardo_Saverin', 'views': 13660, 'rank': 552}, {'article': 'Durrës', 'views': 13627, 'rank': 553}, {'article': 'Soviet_Union', 'views': 13618, 'rank': 554}, {'article': 'Opinion_polling_for_the_2025_German_federal_election', 'views': 13612, 'rank': 555}, {'article': 'Godhra_train_burning', 'views': 13607, 'rank': 556}, {'article': 'Tim_Dunn_(businessman)', 'views': 13606, 'rank': 557}, {'article': 'Longlegs', 'views': 13603, 'rank': 558}, {'article': 'Black_Warrant_(book)', 'views': 13512, 'rank': 559}, {'article': 'Coraline', 'views': 13472, 'rank': 560}, {'article': 'Putlog_hole', 'views': 13472, 'rank': 560}, {'article': 'Fascism', 'views': 13436, 'rank': 562}, {'article': 'Jean-Marie_Le_Pen', 'views': 13417, 'rank': 563}, {'article': 'List_of_highest-grossing_films', 'views': 13410, 'rank': 564}, {'article': 'Sex_position', 'views': 13402, 'rank': 565}, {'article': 'Apt._(song)', 'views': 13396, 'rank': 566}, {'article': 'Robert_Davi', 'views': 13384, 'rank': 567}, {'article': 'Macaulay_Culkin', 'views': 13363, 'rank': 568}, {'article': 'Juror_No._2', 'views': 13359, 'rank': 569}, {'article': 'Natalia_Grace', 'views': 13325, 'rank': 570}, {'article': 'Robin_Williams', 'views': 13314, 'rank': 571}, {'article': 'Jim_Swire', 'views': 13301, 'rank': 572}, {'article': 'Null', 'views': 13273, 'rank': 573}, {'article': 'Ruby_Franke', 'views': 13267, 'rank': 574}, {'article': 'File:Bandera_santa_cruz_de_la_palma.png', 'views': 13264, 'rank': 575}, {'article': 'Dave_Shula', 'views': 13232, 'rank': 576}, {'article': 'Sexual_intercourse', 'views': 13218, 'rank': 577}, {'article': 'United_States_presidential_inauguration', 'views': 13199, 'rank': 578}, {'article': 'Harrison_Ford', 'views': 13196, 'rank': 579}, {'article': \"Peter_Pan's_Neverland_Nightmare\", 'views': 13166, 'rank': 580}, {'article': 'Andrew_III_of_Hungary', 'views': 13120, 'rank': 581}, {'article': 'Marilyn_Monroe', 'views': 13085, 'rank': 582}, {'article': 'Liverpool_F.C.', 'views': 13085, 'rank': 582}, {'article': 'Abraham_Lincoln', 'views': 13085, 'rank': 582}, {'article': 'Carry-On', 'views': 13063, 'rank': 585}, {'article': 'Doechii', 'views': 13057, 'rank': 586}, {'article': 'Anya_Taylor-Joy', 'views': 13024, 'rank': 587}, {'article': 'Manchester_United_F.C.', 'views': 12997, 'rank': 588}, {'article': 'List_of_Squid_Game_characters', 'views': 12989, 'rank': 589}, {'article': 'Jacky_Rosen', 'views': 12988, 'rank': 590}, {'article': 'Arcane_(TV_series)', 'views': 12984, 'rank': 591}, {'article': 'Park_Sung-hoon', 'views': 12975, 'rank': 592}, {'article': 'Robert_Eggers', 'views': 12973, 'rank': 593}, {'article': 'Lemon8', 'views': 12966, 'rank': 594}, {'article': 'Lamar_Jackson', 'views': 12952, 'rank': 595}, {'article': 'Flow_(2024_film)', 'views': 12941, 'rank': 596}, {'article': 'Pedro_Pascal', 'views': 12917, 'rank': 597}, {'article': 'Woke', 'views': 12852, 'rank': 598}, {'article': 'Willem_Dafoe', 'views': 12842, 'rank': 599}, {'article': 'Supercopa_de_España', 'views': 12834, 'rank': 600}, {'article': 'Kanye_West', 'views': 12828, 'rank': 601}, {'article': 'Josh_Brolin', 'views': 12824, 'rank': 602}, {'article': 'Leonardo_DiCaprio', 'views': 12824, 'rank': 602}, {'article': 'Whose_Line_Is_It_Anyway?_(British_TV_series)', 'views': 12805, 'rank': 604}, {'article': 'Sydney_Sweeney', 'views': 12793, 'rank': 605}, {'article': 'Silo_(series)', 'views': 12788, 'rank': 606}, {'article': 'Werewolves_(film)', 'views': 12786, 'rank': 607}, {'article': 'Jonathan_Bailey', 'views': 12785, 'rank': 608}, {'article': 'Albert_Einstein', 'views': 12783, 'rank': 609}, {'article': 'Michael_Waltz', 'views': 12778, 'rank': 610}, {'article': 'Shea_Whigham', 'views': 12773, 'rank': 611}, {'article': 'Wikipedia:About', 'views': 12773, 'rank': 611}, {'article': 'Hulk_Hogan', 'views': 12765, 'rank': 613}, {'article': 'Artificial_intelligence', 'views': 12763, 'rank': 614}, {'article': 'George_Washington', 'views': 12757, 'rank': 615}, {'article': 'Marion_Zimmer_Bradley', 'views': 12755, 'rank': 616}, {'article': 'Paris_Hilton', 'views': 12750, 'rank': 617}, {'article': 'Woody_Harrelson', 'views': 12741, 'rank': 618}, {'article': 'Julia_Stiles', 'views': 12741, 'rank': 618}, {'article': 'XVideos', 'views': 12730, 'rank': 620}, {'article': 'Deadpool_&_Wolverine', 'views': 12718, 'rank': 621}, {'article': 'Michael_Jordan', 'views': 12708, 'rank': 622}, {'article': 'On_Call_(TV_series)', 'views': 12704, 'rank': 623}, {'article': 'Kamala_Harris', 'views': 12697, 'rank': 624}, {'article': 'Vietnam_War', 'views': 12679, 'rank': 625}, {'article': 'Mauritius', 'views': 12679, 'rank': 625}, {'article': 'The_Vivienne', 'views': 12675, 'rank': 627}, {'article': 'Revolutionary_Road_(film)', 'views': 12668, 'rank': 628}, {'article': 'Marvel_Rivals', 'views': 12661, 'rank': 629}, {'article': 'Lisa_Marie_Presley', 'views': 12658, 'rank': 630}, {'article': 'Pope_Francis', 'views': 12652, 'rank': 631}, {'article': 'Clint_Eastwood', 'views': 12650, 'rank': 632}, {'article': 'Kho_Kho_World_Cup', 'views': 12650, 'rank': 632}, {'article': 'The_Woman_in_the_Yard', 'views': 12638, 'rank': 634}, {'article': 'Dark_web', 'views': 12632, 'rank': 635}, {'article': 'List_of_countries_by_GDP_(nominal)_per_capita', 'views': 12589, 'rank': 636}, {'article': 'Kat_Dennings', 'views': 12579, 'rank': 637}, {'article': 'File:E.tv_Extra_logo_(2019).png', 'views': 12572, 'rank': 638}, {'article': 'English_language', 'views': 12571, 'rank': 639}, {'article': 'Take_That', 'views': 12561, 'rank': 640}, {'article': 'United_States_Senate_Committee_on_Armed_Services', 'views': 12557, 'rank': 641}, {'article': 'American_Civil_War', 'views': 12536, 'rank': 642}, {'article': 'Solomon_Islands', 'views': 12526, 'rank': 643}, {'article': 'William_Shakespeare', 'views': 12520, 'rank': 644}, {'article': 'Stewart_Resnick', 'views': 12512, 'rank': 645}, {'article': 'Dexter:_Original_Sin', 'views': 12482, 'rank': 646}, {'article': 'Wikipedia:Citation_needed', 'views': 12481, 'rank': 647}, {'article': '1989_Tiananmen_Square_protests_and_massacre', 'views': 12479, 'rank': 648}, {'article': 'Roanoke_Colony', 'views': 12476, 'rank': 649}, {'article': 'Florence_Pugh', 'views': 12461, 'rank': 650}, {'article': 'Adam_Sandler', 'views': 12457, 'rank': 651}, {'article': 'Unni_Mukundan', 'views': 12451, 'rank': 652}, {'article': 'Ronald_Speirs', 'views': 12443, 'rank': 653}, {'article': 'Rachel_Reeves', 'views': 12442, 'rank': 654}, {'article': 'Good_Omens_(TV_series)', 'views': 12404, 'rank': 655}, {'article': 'United_Arab_Emirates', 'views': 12394, 'rank': 656}, {'article': 'Richard_Nixon', 'views': 12390, 'rank': 657}, {'article': 'Philippines', 'views': 12372, 'rank': 658}, {'article': \"Alice_Doesn't_Live_Here_Anymore\", 'views': 12364, 'rank': 659}, {'article': 'Steve_Guttenberg', 'views': 12354, 'rank': 660}, {'article': 'Debí_Tirar_Más_Fotos', 'views': 12354, 'rank': 660}, {'article': 'Jo_Yu-ri', 'views': 12348, 'rank': 662}, {'article': 'Cambridge_Five', 'views': 12342, 'rank': 663}, {'article': 'Luigi_Mangione', 'views': 12339, 'rank': 664}, {'article': 'Corentin_Moutet', 'views': 12326, 'rank': 665}, {'article': 'Joseph_Stalin', 'views': 12275, 'rank': 666}, {'article': 'Ethel_Cain', 'views': 12268, 'rank': 667}, {'article': 'Peyton_Stearns', 'views': 12233, 'rank': 668}, {'article': 'Joe_Rogan', 'views': 12221, 'rank': 669}, {'article': 'List_of_Dallas_Cowboys_head_coaches', 'views': 12207, 'rank': 670}, {'article': 'Windows_10_version_history', 'views': 12202, 'rank': 671}, {'article': 'Elena_Rybakina', 'views': 12191, 'rank': 672}, {'article': 'XXX_(2002_film)', 'views': 12187, 'rank': 673}, {'article': 'New_7_Wonders_of_the_World', 'views': 12173, 'rank': 674}, {'article': 'Lyle_and_Erik_Menendez', 'views': 12171, 'rank': 675}, {'article': 'Mexico', 'views': 12160, 'rank': 676}, {'article': 'BlackRock', 'views': 12156, 'rank': 677}, {'article': 'Taiwan', 'views': 12147, 'rank': 678}, {'article': 'Keir_Starmer', 'views': 12144, 'rank': 679}, {'article': 'Earth', 'views': 12135, 'rank': 680}, {'article': 'Mark_Wahlberg', 'views': 12121, 'rank': 681}, {'article': 'The_Walking_Dead:_The_Ones_Who_Live', 'views': 12121, 'rank': 681}, {'article': 'Claes_Bang', 'views': 12120, 'rank': 683}, {'article': 'Eminem', 'views': 12105, 'rank': 684}, {'article': 'Special_Air_Service', 'views': 12104, 'rank': 685}, {'article': 'S._Shankar', 'views': 12098, 'rank': 686}, {'article': 'Dog', 'views': 12083, 'rank': 687}, {'article': 'Nicholas_Hoult', 'views': 12061, 'rank': 688}, {'article': 'Gladiator_(2000_film)', 'views': 12055, 'rank': 689}, {'article': 'Dexter_(TV_series)', 'views': 12033, 'rank': 690}, {'article': 'Kylie_Jenner', 'views': 12024, 'rank': 691}, {'article': 'Anne_Hathaway', 'views': 12019, 'rank': 692}, {'article': 'LaMelo_Ball', 'views': 12006, 'rank': 693}, {'article': 'Sex', 'views': 12005, 'rank': 694}, {'article': 'Jesus', 'views': 12004, 'rank': 695}, {'article': 'Gerald_Ford', 'views': 12003, 'rank': 696}, {'article': 'Until_Dawn', 'views': 11998, 'rank': 697}, {'article': \"It's_Always_Sunny_in_Philadelphia\", 'views': 11988, 'rank': 698}, {'article': 'Turkey', 'views': 11983, 'rank': 699}, {'article': 'List_of_Minnesota_Vikings_starting_quarterbacks', 'views': 11977, 'rank': 700}, {'article': 'Vladimir_Putin', 'views': 11977, 'rank': 700}, {'article': 'Murillo_(footballer)', 'views': 11969, 'rank': 702}, {'article': '1923_(TV_series)', 'views': 11920, 'rank': 703}, {'article': 'Dakota_Kai', 'views': 11915, 'rank': 704}, {'article': 'Minecraft', 'views': 11907, 'rank': 705}, {'article': 'Catherine,_Princess_of_Wales', 'views': 11906, 'rank': 706}, {'article': 'Winston_Churchill', 'views': 11896, 'rank': 707}, {'article': 'ICC_Champions_Trophy', 'views': 11887, 'rank': 708}, {'article': 'Makara_Jyothi', 'views': 11859, 'rank': 709}, {'article': 'Chappell_Roan', 'views': 11857, 'rank': 710}, {'article': 'Rosalind_Eleazar', 'views': 11850, 'rank': 711}, {'article': 'Jim_Carrey', 'views': 11831, 'rank': 712}, {'article': 'Love_Scout', 'views': 11830, 'rank': 713}, {'article': 'Methylene_blue', 'views': 11818, 'rank': 714}, {'article': 'Jessie_(2011_TV_series)', 'views': 11817, 'rank': 715}, {'article': 'Ivermectin', 'views': 11814, 'rank': 716}, {'article': 'Indonesia', 'views': 11808, 'rank': 717}, {'article': 'Wild_Bill_Hickman', 'views': 11794, 'rank': 718}, {'article': 'Jannik_Sinner', 'views': 11729, 'rank': 719}, {'article': 'Theodore_Roosevelt', 'views': 11719, 'rank': 720}, {'article': 'Andrew_Garfield', 'views': 11711, 'rank': 721}, {'article': 'Dendrocnide_moroides', 'views': 11693, 'rank': 722}, {'article': 'Israel', 'views': 11690, 'rank': 723}, {'article': 'Meta_Platforms', 'views': 11678, 'rank': 724}, {'article': 'Dan_Hays_(artist)', 'views': 11677, 'rank': 725}, {'article': 'James_Woods', 'views': 11669, 'rank': 726}, {'article': 'Jessica_Alba', 'views': 11666, 'rank': 727}, {'article': 'Justin_Baldoni', 'views': 11656, 'rank': 728}, {'article': 'Religion_in_the_United_Kingdom', 'views': 11641, 'rank': 729}, {'article': 'Venkatesh_(actor)', 'views': 11600, 'rank': 730}, {'article': 'Kevin_Costner', 'views': 11578, 'rank': 731}, {'article': 'Canadair_CL-415', 'views': 11566, 'rank': 732}, {'article': 'LaVar_Ball', 'views': 11557, 'rank': 733}, {'article': '2024_NFL_season', 'views': 11554, 'rank': 734}, {'article': 'Sara_Pascoe', 'views': 11554, 'rank': 734}, {'article': 'The_Traitors_(American_TV_series)_season_2', 'views': 11549, 'rank': 736}, {'article': 'Shrinking_(TV_series)', 'views': 11535, 'rank': 737}, {'article': 'Starship_flight_test_7', 'views': 11534, 'rank': 738}, {'article': 'Shalini_Ajith', 'views': 11530, 'rank': 739}, {'article': 'Emma_Navarro', 'views': 11526, 'rank': 740}, {'article': 'Ralph_Fiennes', 'views': 11501, 'rank': 741}, {'article': 'Otto_Schenk', 'views': 11489, 'rank': 742}, {'article': 'Rhea_Ripley', 'views': 11486, 'rank': 743}, {'article': 'Hoda_Kotb', 'views': 11473, 'rank': 744}, {'article': 'Penny_Dwyer', 'views': 11471, 'rank': 745}, {'article': 'Empress_Elisabeth_of_Austria', 'views': 11461, 'rank': 746}, {'article': 'Ted_Bundy', 'views': 11458, 'rank': 747}, {'article': 'HoYeon_Jung', 'views': 11453, 'rank': 748}, {'article': 'Giovanni_Mpetshi_Perricard', 'views': 11440, 'rank': 749}, {'article': '2_Girls_1_Cup', 'views': 11440, 'rank': 749}, {'article': 'Lady_GaGa', 'views': 11418, 'rank': 751}, {'article': 'Washington_Commanders', 'views': 11418, 'rank': 751}, {'article': 'Syrian_civil_war', 'views': 11412, 'rank': 753}, {'article': 'Arsenal_F.C.', 'views': 11400, 'rank': 754}, {'article': 'Lioness_(American_TV_series)', 'views': 11397, 'rank': 755}, {'article': 'Stranger_Things_season_5', 'views': 11385, 'rank': 756}, {'article': 'Telegram_(software)', 'views': 11370, 'rank': 757}, {'article': 'Claudia_Sheinbaum', 'views': 11364, 'rank': 758}, {'article': '2018_NFL_draft', 'views': 11340, 'rank': 759}, {'article': 'The_Beatles', 'views': 11338, 'rank': 760}, {'article': '2018_Horizon_Air_Q400_incident', 'views': 11330, 'rank': 761}, {'article': 'Beyoncé', 'views': 11329, 'rank': 762}, {'article': 'List_of_WWE_personnel', 'views': 11328, 'rank': 763}, {'article': 'Super_Bowl_XXX', 'views': 11305, 'rank': 764}, {'article': 'Alexander_the_Great', 'views': 11298, 'rank': 765}, {'article': 'Evangelos_Marinakis', 'views': 11292, 'rank': 766}, {'article': 'Bangladesh', 'views': 11287, 'rank': 767}, {'article': 'Liam_Neeson', 'views': 11271, 'rank': 768}, {'article': 'Harold_&_Kumar_Go_to_White_Castle', 'views': 11270, 'rank': 769}, {'article': 'Pepsi_Paloma', 'views': 11269, 'rank': 770}, {'article': 'Game_of_Thrones', 'views': 11257, 'rank': 771}, {'article': 'List_of_countries_and_dependencies_by_population', 'views': 11239, 'rank': 772}, {'article': 'Bill_Belichick', 'views': 11238, 'rank': 773}, {'article': 'Puerto_Rico', 'views': 11236, 'rank': 774}, {'article': 'Manchester_City_F.C.', 'views': 11232, 'rank': 775}, {'article': 'Kobe_Bryant', 'views': 11225, 'rank': 776}, {'article': '2025_German_federal_election', 'views': 11221, 'rank': 777}, {'article': 'Nuuk', 'views': 11215, 'rank': 778}, {'article': 'Library_Genesis', 'views': 11202, 'rank': 779}, {'article': 'Josh_Gad', 'views': 11192, 'rank': 780}, {'article': 'Pakistan', 'views': 11162, 'rank': 781}, {'article': 'Deb_Fischer', 'views': 11153, 'rank': 782}, {'article': 'Chrystia_Freeland', 'views': 11149, 'rank': 783}, {'article': 'Sylvester_Stallone', 'views': 11148, 'rank': 784}, {'article': 'Freddie_Mercury', 'views': 11125, 'rank': 785}, {'article': 'Angus_King', 'views': 11121, 'rank': 786}, {'article': 'New_Zealand', 'views': 11115, 'rank': 787}, {'article': 'Marcel_Somerville', 'views': 11106, 'rank': 788}, {'article': 'File:XHamster_logo.svg', 'views': 11099, 'rank': 789}, {'article': 'Danny_DeVito', 'views': 11098, 'rank': 790}, {'article': 'Amazon_(company)', 'views': 11090, 'rank': 791}, {'article': 'Wi_Ha-joon', 'views': 11082, 'rank': 792}, {'article': '69_(sex_position)', 'views': 11069, 'rank': 793}, {'article': 'Steve_Bannon', 'views': 11067, 'rank': 794}, {'article': 'Snapchat', 'views': 11065, 'rank': 795}, {'article': 'Quotations_from_Chairman_Mao_Tse-tung', 'views': 11063, 'rank': 796}, {'article': 'Aaron_Glenn', 'views': 11054, 'rank': 797}, {'article': 'Special:RecentChanges', 'views': 11036, 'rank': 798}, {'article': 'Gerald_R._Ford-class_aircraft_carrier', 'views': 11030, 'rank': 799}, {'article': 'The_Dresden_Dolls', 'views': 11004, 'rank': 800}, {'article': 'Jennifer_Aniston', 'views': 10999, 'rank': 801}, {'article': 'CapCut', 'views': 10998, 'rank': 802}, {'article': 'Heath_Ledger', 'views': 10992, 'rank': 803}, {'article': 'Troian_Bellisario', 'views': 10991, 'rank': 804}, {'article': 'Alto_Knights', 'views': 10988, 'rank': 805}, {'article': 'Ottoman_Empire', 'views': 10984, 'rank': 806}, {'article': 'Megan_Is_Missing', 'views': 10983, 'rank': 807}, {'article': 'Elizabeth_Warren', 'views': 10981, 'rank': 808}, {'article': 'London', 'views': 10972, 'rank': 809}, {'article': 'Dallas_Cowboys', 'views': 10938, 'rank': 810}, {'article': 'Jamie_Dimon', 'views': 10935, 'rank': 811}, {'article': 'Robert_Machray_(actor)', 'views': 10926, 'rank': 812}, {'article': 'Tim_Tebow', 'views': 10924, 'rank': 813}, {'article': 'The_Pirate_Bay', 'views': 10920, 'rank': 814}, {'article': 'El_Clásico', 'views': 10920, 'rank': 814}, {'article': 'Rebecca_Ferguson', 'views': 10884, 'rank': 816}, {'article': 'Super_Bowl_LVIII', 'views': 10884, 'rank': 816}, {'article': 'Wamiqa_Gabbi', 'views': 10878, 'rank': 818}, {'article': 'Steve_Witkoff', 'views': 10876, 'rank': 819}, {'article': 'The_White_Lotus', 'views': 10846, 'rank': 820}, {'article': \"Inna_Lillahi_wa_inna_ilayhi_raji'un\", 'views': 10846, 'rank': 820}, {'article': 'Kim_Coates', 'views': 10837, 'rank': 822}, {'article': 'Wojciech_Szczęsny', 'views': 10837, 'rank': 822}, {'article': 'NFL_playoffs', 'views': 10812, 'rank': 824}, {'article': 'Tulsi_Gabbard', 'views': 10808, 'rank': 825}, {'article': 'France', 'views': 10802, 'rank': 826}, {'article': 'Ryan_Gosling', 'views': 10789, 'rank': 827}, {'article': 'The_Traitors_(British_TV_series)', 'views': 10784, 'rank': 828}, {'article': 'Mahatma_Gandhi', 'views': 10781, 'rank': 829}, {'article': 'Alice_Weidel', 'views': 10770, 'rank': 830}, {'article': 'Beast_Games', 'views': 10769, 'rank': 831}, {'article': 'Albert_Fish', 'views': 10758, 'rank': 832}, {'article': 'Deaths_in_2024', 'views': 10753, 'rank': 833}, {'article': 'Justin_Jefferson', 'views': 10745, 'rank': 834}, {'article': 'Vitor_Reis_(footballer,_born_January_2006)', 'views': 10741, 'rank': 835}, {'article': 'James_Norton_(actor)', 'views': 10741, 'rank': 835}, {'article': 'Algebraic_notation_(chess)', 'views': 10736, 'rank': 837}, {'article': 'It_Ends_with_Us_(film)', 'views': 10734, 'rank': 838}, {'article': 'Ekin-Su_Cülcüloğlu', 'views': 10733, 'rank': 839}, {'article': 'Jennifer_Lopez', 'views': 10726, 'rank': 840}, {'article': 'Jeff_Bezos', 'views': 10706, 'rank': 841}, {'article': 'Tommy_Rees_(American_football)', 'views': 10700, 'rank': 842}, {'article': 'Karina_Gould', 'views': 10679, 'rank': 843}, {'article': \"Jack_O'Connell_(actor)\", 'views': 10677, 'rank': 844}, {'article': 'United_States_Senate', 'views': 10676, 'rank': 845}, {'article': 'North_Korea', 'views': 10673, 'rank': 846}, {'article': 'Dick_Van_Dyke', 'views': 10657, 'rank': 847}, {'article': 'Randal_Kolo_Muani', 'views': 10655, 'rank': 848}, {'article': 'Mandy_Moore', 'views': 10653, 'rank': 849}, {'article': 'Peter_Thiel', 'views': 10650, 'rank': 850}, {'article': 'Barbra_Streisand', 'views': 10641, 'rank': 851}, {'article': 'Dune_(2021_film)', 'views': 10634, 'rank': 852}, {'article': 'Grand_Theft_Auto_VI', 'views': 10609, 'rank': 853}, {'article': 'U.S._state', 'views': 10607, 'rank': 854}, {'article': 'Julia_Garner', 'views': 10603, 'rank': 855}, {'article': 'Jason_Statham', 'views': 10603, 'rank': 855}, {'article': 'Sreeleela', 'views': 10601, 'rank': 857}, {'article': 'Andy_García', 'views': 10598, 'rank': 858}, {'article': 'Aaron_Hernandez', 'views': 10578, 'rank': 859}, {'article': 'CM_Punk', 'views': 10577, 'rank': 860}, {'article': 'King_Von', 'views': 10569, 'rank': 861}, {'article': 'South_Korea', 'views': 10566, 'rank': 862}, {'article': 'Drew_Barrymore', 'views': 10558, 'rank': 863}, {'article': 'Sheikh_Hasina', 'views': 10552, 'rank': 864}, {'article': 'HTTP_404', 'views': 10540, 'rank': 865}, {'article': 'Demi_Lovato', 'views': 10536, 'rank': 866}, {'article': 'The_Church_of_Jesus_Christ_of_Latter-day_Saints', 'views': 10527, 'rank': 867}, {'article': 'Jared_Goff', 'views': 10511, 'rank': 868}, {'article': 'Zane_Gonzalez', 'views': 10508, 'rank': 869}, {'article': '2025_Canadian_federal_election', 'views': 10502, 'rank': 870}, {'article': 'Rajinikanth', 'views': 10499, 'rank': 871}, {'article': '2016_United_States_presidential_election', 'views': 10499, 'rank': 871}, {'article': 'Shoshone', 'views': 10498, 'rank': 873}, {'article': 'Robert_F._Kennedy_Jr.', 'views': 10497, 'rank': 874}, {'article': 'Star', 'views': 10488, 'rank': 875}, {'article': 'Charles_Manson', 'views': 10486, 'rank': 876}, {'article': 'Evan_Rachel_Wood', 'views': 10423, 'rank': 877}, {'article': 'Muhammad', 'views': 10415, 'rank': 878}, {'article': 'Harry_Potter_(film_series)', 'views': 10398, 'rank': 879}, {'article': 'Jon_Hamm', 'views': 10395, 'rank': 880}, {'article': 'Neco_Williams', 'views': 10386, 'rank': 881}, {'article': 'Denis_Leary', 'views': 10385, 'rank': 882}, {'article': 'Rahul_Bhat', 'views': 10380, 'rank': 883}, {'article': 'Johnny_Depp', 'views': 10363, 'rank': 884}, {'article': 'Madeleine_West', 'views': 10359, 'rank': 885}, {'article': 'A', 'views': 10353, 'rank': 886}, {'article': 'WWE', 'views': 10340, 'rank': 887}, {'article': 'Dune:_Part_Two', 'views': 10333, 'rank': 888}, {'article': 'Europe', 'views': 10316, 'rank': 889}, {'article': 'Fivio_Foreign', 'views': 10316, 'rank': 889}, {'article': 'Candace_Owens', 'views': 10315, 'rank': 891}, {'article': 'Carlos_Alcaraz', 'views': 10304, 'rank': 892}, {'article': 'Paul_Shearer', 'views': 10299, 'rank': 893}, {'article': 'Hugh_Laurie', 'views': 10294, 'rank': 894}, {'article': 'The_Penguin_(TV_series)', 'views': 10287, 'rank': 895}, {'article': 'Roman_Empire', 'views': 10279, 'rank': 896}, {'article': 'Ray_Liotta', 'views': 10269, 'rank': 897}, {'article': 'House_(TV_series)', 'views': 10257, 'rank': 898}, {'article': 'Warren_Buffett', 'views': 10256, 'rank': 899}, {'article': 'List_of_WWE_pay-per-view_and_livestreaming_supercards', 'views': 10253, 'rank': 900}, {'article': 'Dead_Internet_theory', 'views': 10252, 'rank': 901}, {'article': 'Dakota_Johnson', 'views': 10246, 'rank': 902}, {'article': 'Jack_Nicholson', 'views': 10243, 'rank': 903}, {'article': 'Kate_Mara', 'views': 10236, 'rank': 904}, {'article': 'Destanee_Aiava', 'views': 10233, 'rank': 905}, {'article': 'Robert_De_Niro', 'views': 10229, 'rank': 906}, {'article': 'Malaysia', 'views': 10215, 'rank': 907}, {'article': 'The_Sopranos', 'views': 10210, 'rank': 908}, {'article': 'Christopher_Nolan', 'views': 10207, 'rank': 909}, {'article': 'Number_One_Observatory_Circle', 'views': 10207, 'rank': 909}, {'article': 'Barnacle', 'views': 10203, 'rank': 911}, {'article': 'Max_(2024_film)', 'views': 10196, 'rank': 912}, {'article': 'Hawaii', 'views': 10191, 'rank': 913}, {'article': 'Panama_Canal', 'views': 10190, 'rank': 914}, {'article': 'Seven_deadly_sins', 'views': 10184, 'rank': 915}, {'article': 'List_of_countries_and_dependencies_by_area', 'views': 10171, 'rank': 916}, {'article': 'Tupac_Shakur', 'views': 10165, 'rank': 917}, {'article': 'Mark_Kelly', 'views': 10141, 'rank': 918}, {'article': 'Urvashi_Rautela', 'views': 10137, 'rank': 919}, {'article': 'Dandadan', 'views': 10135, 'rank': 920}, {'article': 'Christopher_Reeve', 'views': 10133, 'rank': 921}, {'article': 'Nauvoo_Legion', 'views': 10129, 'rank': 922}, {'article': 'Alien:_Romulus', 'views': 10128, 'rank': 923}, {'article': 'The_Sabarmati_Report', 'views': 10114, 'rank': 924}, {'article': 'Oppenheimer_(film)', 'views': 10105, 'rank': 925}, {'article': 'Jennifer_Siebel_Newsom', 'views': 10100, 'rank': 926}, {'article': 'Dolours_Price', 'views': 10099, 'rank': 927}, {'article': 'Patrick_Kluivert', 'views': 10099, 'rank': 927}, {'article': 'Sikhism', 'views': 10098, 'rank': 929}, {'article': 'Cher', 'views': 10097, 'rank': 930}, {'article': 'Washington,_D.C.', 'views': 10090, 'rank': 931}, {'article': 'Ben_Affleck', 'views': 10089, 'rank': 932}, {'article': 'List_of_James_Bond_films', 'views': 10089, 'rank': 932}, {'article': 'The_Six_Triple_Eight', 'views': 10079, 'rank': 934}, {'article': 'Eddie_Redmayne', 'views': 10079, 'rank': 934}, {'article': 'Hailee_Steinfeld', 'views': 10073, 'rank': 936}, {'article': 'Saika_Kawakita', 'views': 10065, 'rank': 937}, {'article': 'Lonzo_Ball', 'views': 10064, 'rank': 938}, {'article': 'Dwight_D._Eisenhower', 'views': 10055, 'rank': 939}, {'article': 'Narendra_Modi', 'views': 10054, 'rank': 940}, {'article': 'SZA', 'views': 10042, 'rank': 941}, {'article': 'Marvel_Cinematic_Universe', 'views': 10034, 'rank': 942}, {'article': 'Netherlands', 'views': 10028, 'rank': 943}, {'article': 'List_of_The_Rookie_episodes', 'views': 10025, 'rank': 944}, {'article': 'David_Beckham', 'views': 10005, 'rank': 945}, {'article': 'BRICS', 'views': 10000, 'rank': 946}, {'article': 'George_VI', 'views': 9999, 'rank': 947}, {'article': '82nd_Golden_Globe_Awards', 'views': 9996, 'rank': 948}, {'article': 'Jupiter', 'views': 9992, 'rank': 949}, {'article': 'Rod_Stewart', 'views': 9991, 'rank': 950}, {'article': 'Naomi_Osaka', 'views': 9980, 'rank': 951}, {'article': 'Emma_Watson', 'views': 9977, 'rank': 952}, {'article': 'Marcia_Gay_Harden', 'views': 9975, 'rank': 953}, {'article': 'An_American_Crime', 'views': 9969, 'rank': 954}, {'article': 'Saudi_Arabia', 'views': 9967, 'rank': 955}, {'article': 'Denmark', 'views': 9967, 'rank': 955}, {'article': 'Britt_Lower', 'views': 9955, 'rank': 957}, {'article': 'Nvidia', 'views': 9955, 'rank': 957}, {'article': 'Happy_Feet_(penguin)', 'views': 9955, 'rank': 957}, {'article': \"Grey's_Anatomy\", 'views': 9944, 'rank': 960}, {'article': 'Secret_Level', 'views': 9940, 'rank': 961}, {'article': 'Vietnam', 'views': 9938, 'rank': 962}, {'article': 'Jack_Antonoff', 'views': 9937, 'rank': 963}, {'article': 'TooTurntTony', 'views': 9923, 'rank': 964}, {'article': 'Arfa_Karim', 'views': 9920, 'rank': 965}, {'article': 'UEFA_Champions_League', 'views': 9916, 'rank': 966}, {'article': 'Dirk_Bogarde', 'views': 9907, 'rank': 967}, {'article': 'Lyndon_B._Johnson', 'views': 9904, 'rank': 968}, {'article': 'Nazi_Germany', 'views': 9902, 'rank': 969}, {'article': 'North_America', 'views': 9900, 'rank': 970}, {'article': 'Katy_Perry', 'views': 9889, 'rank': 971}, {'article': 'Provinces_and_territories_of_Canada', 'views': 9889, 'rank': 971}, {'article': 'Lebanon', 'views': 9884, 'rank': 973}, {'article': 'Benito_Mussolini', 'views': 9876, 'rank': 974}, {'article': 'Priscilla_Chan', 'views': 9870, 'rank': 975}, {'article': 'Mission:_Impossible_(film_series)', 'views': 9855, 'rank': 976}, {'article': 'Dyatlov_Pass_incident', 'views': 9854, 'rank': 977}, {'article': 'Ben_Whishaw', 'views': 9850, 'rank': 978}, {'article': 'The_Night_Agent', 'views': 9835, 'rank': 979}, {'article': 'List_of_pornographic_performers_by_decade', 'views': 9827, 'rank': 980}, {'article': 'Dan_Quinn_(American_football)', 'views': 9825, 'rank': 981}, {'article': 'Chelsea_F.C.', 'views': 9804, 'rank': 982}, {'article': 'South_Africa', 'views': 9794, 'rank': 983}, {'article': 'Gerard_Butler', 'views': 9788, 'rank': 984}, {'article': 'Dynasty_Warriors:_Origins', 'views': 9778, 'rank': 985}, {'article': 'Ivanka_Trump', 'views': 9774, 'rank': 986}, {'article': 'Dick_Turpin', 'views': 9767, 'rank': 987}, {'article': 'Ben_Johnson_(American_football_coach)', 'views': 9763, 'rank': 988}, {'article': 'Chinese_New_Year', 'views': 9762, 'rank': 989}, {'article': 'Elizabeth_I', 'views': 9758, 'rank': 990}, {'article': 'Tom_Cotton', 'views': 9752, 'rank': 991}, {'article': 'The_Fantastic_Four:_First_Steps', 'views': 9742, 'rank': 992}, {'article': 'Kim_Kardashian', 'views': 9728, 'rank': 993}, {'article': 'Sean_Penn', 'views': 9727, 'rank': 994}, {'article': 'Republican_Party_(United_States)', 'views': 9723, 'rank': 995}, {'article': 'Jason_Kelce', 'views': 9722, 'rank': 996}, {'article': 'Deal_or_No_Deal_Island', 'views': 9719, 'rank': 997}, {'article': 'Kellen_Moore', 'views': 9718, 'rank': 998}, {'article': 'Ram_Charan', 'views': 9712, 'rank': 999}, {'article': \"Kevin_O'Leary\", 'views': 9691, 'rank': 1000}]\n",
            "Title: Main_Page, Views: 4642085, Rank: 1\n",
            "Title: Special:Search, Views: 1331741, Rank: 2\n",
            "Title: Wikipedia:Featured_pictures, Views: 513505, Rank: 3\n",
            "Title: Pete_Hegseth, Views: 396342, Rank: 4\n",
            "Title: Tony_Slattery, Views: 305211, Rank: 5\n",
            "Title: Neil_Gaiman, Views: 253707, Rank: 6\n",
            "Title: Pentagón_Jr., Views: 209150, Rank: 7\n",
            "Title: Kumbh_Mela, Views: 190245, Rank: 8\n",
            "Title: Game_Changer_(film), Views: 177646, Rank: 9\n",
            "Title: Mark_Michael_Hutchinson, Views: 143087, Rank: 10\n"
          ]
        }
      ]
    }
  ]
}