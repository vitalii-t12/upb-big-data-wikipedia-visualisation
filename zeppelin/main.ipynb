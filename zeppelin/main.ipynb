{
 "cells": [
  {
   "cell_type": "code",
   "execution_count": 1,
   "id": "initial_id",
   "metadata": {
    "jupyter": {
     "is_executing": true
    }
   },
   "outputs": [],
   "source": [
    "import pandas as pd\n",
    "import json\n",
    "import geopandas as gpd\n",
    "import numpy as np\n",
    "import matplotlib.pyplot as plt\n",
    "import pygal"
   ]
  },
  {
   "cell_type": "code",
   "execution_count": 2,
   "id": "c28be08056b09c2c",
   "metadata": {},
   "outputs": [],
   "source": [
    "with open('countries_visits_2023_01.json','r') as f:\n",
    "    data = json.load(f)"
   ]
  },
  {
   "cell_type": "code",
   "execution_count": 3,
   "id": "2dd9f7d9-ff89-4cdb-9adf-a4fed85b5164",
   "metadata": {},
   "outputs": [
    {
     "name": "stdout",
     "output_type": "stream",
     "text": [
      "1\n"
     ]
    }
   ],
   "source": [
    "items = data['items']\n",
    "print(len(items))"
   ]
  },
  {
   "cell_type": "code",
   "execution_count": 4,
   "id": "4c7f365d-feff-40b7-890e-047b08a7d3c5",
   "metadata": {
    "scrolled": true
   },
   "outputs": [
    {
     "name": "stdout",
     "output_type": "stream",
     "text": [
      "dict_keys(['project', 'access', 'year', 'month', 'countries'])\n"
     ]
    }
   ],
   "source": [
    "item = items[0]\n",
    "item\n",
    "\n",
    "print(item.keys())"
   ]
  },
  {
   "cell_type": "code",
   "execution_count": 5,
   "id": "e2b61409-f82c-4101-a51a-1bb0e21f3ae6",
   "metadata": {},
   "outputs": [],
   "source": [
    "project = item['project']"
   ]
  },
  {
   "cell_type": "code",
   "execution_count": 6,
   "id": "0a346386-4629-400b-85ee-15c254c801cf",
   "metadata": {},
   "outputs": [],
   "source": [
    "access = item['access']"
   ]
  },
  {
   "cell_type": "code",
   "execution_count": 7,
   "id": "208aab5c-e1a5-47a4-bd13-4afad6f719a2",
   "metadata": {},
   "outputs": [],
   "source": [
    "year = item['year']"
   ]
  },
  {
   "cell_type": "code",
   "execution_count": 8,
   "id": "b7e8cba5-a267-4daf-9a0e-7851571d1d09",
   "metadata": {},
   "outputs": [],
   "source": [
    "month = item['month']"
   ]
  },
  {
   "cell_type": "code",
   "execution_count": 9,
   "id": "43018c45-9fb3-46ed-8823-f0689039a668",
   "metadata": {},
   "outputs": [],
   "source": [
    "countries = item['countries']"
   ]
  },
  {
   "cell_type": "code",
   "execution_count": 10,
   "id": "69f452da-a384-4d9c-8557-2ee02d798597",
   "metadata": {},
   "outputs": [
    {
     "data": {
      "text/plain": [
       "241"
      ]
     },
     "execution_count": 10,
     "metadata": {},
     "output_type": "execute_result"
    }
   ],
   "source": [
    "len(countries)"
   ]
  },
  {
   "cell_type": "code",
   "execution_count": 11,
   "id": "35c41656-aeb9-4c49-8dbc-3ed7af4841cd",
   "metadata": {},
   "outputs": [
    {
     "name": "stdout",
     "output_type": "stream",
     "text": [
      "Requirement already satisfied: cairosvg in /home/radu/PycharmProjects/upb-big-data-wikipedia-visualisation/venv/lib/python3.13/site-packages (2.7.1)\n",
      "Requirement already satisfied: cairocffi in /home/radu/PycharmProjects/upb-big-data-wikipedia-visualisation/venv/lib/python3.13/site-packages (from cairosvg) (1.7.1)\n",
      "Requirement already satisfied: cssselect2 in /home/radu/PycharmProjects/upb-big-data-wikipedia-visualisation/venv/lib/python3.13/site-packages (from cairosvg) (0.7.0)\n",
      "Requirement already satisfied: defusedxml in /home/radu/PycharmProjects/upb-big-data-wikipedia-visualisation/venv/lib/python3.13/site-packages (from cairosvg) (0.7.1)\n",
      "Requirement already satisfied: pillow in /home/radu/PycharmProjects/upb-big-data-wikipedia-visualisation/venv/lib/python3.13/site-packages (from cairosvg) (11.1.0)\n",
      "Requirement already satisfied: tinycss2 in /home/radu/PycharmProjects/upb-big-data-wikipedia-visualisation/venv/lib/python3.13/site-packages (from cairosvg) (1.4.0)\n",
      "Requirement already satisfied: cffi>=1.1.0 in /home/radu/PycharmProjects/upb-big-data-wikipedia-visualisation/venv/lib/python3.13/site-packages (from cairocffi->cairosvg) (1.17.1)\n",
      "Requirement already satisfied: webencodings in /home/radu/PycharmProjects/upb-big-data-wikipedia-visualisation/venv/lib/python3.13/site-packages (from cssselect2->cairosvg) (0.5.1)\n",
      "Requirement already satisfied: pycparser in /home/radu/PycharmProjects/upb-big-data-wikipedia-visualisation/venv/lib/python3.13/site-packages (from cffi>=1.1.0->cairocffi->cairosvg) (2.22)\n"
     ]
    }
   ],
   "source": [
    "!pip install cairosvg"
   ]
  },
  {
   "cell_type": "code",
   "execution_count": null,
   "id": "1ed8807b-b87a-4818-b7db-525697a2a55a",
   "metadata": {},
   "outputs": [],
   "source": [
    "\n"
   ]
  },
  {
   "cell_type": "code",
   "execution_count": 12,
   "id": "9d1c3a24-62d3-4602-9433-2ac8cbe34ff1",
   "metadata": {},
   "outputs": [
    {
     "data": {
      "text/html": [
       "<div>\n",
       "<style scoped>\n",
       "    .dataframe tbody tr th:only-of-type {\n",
       "        vertical-align: middle;\n",
       "    }\n",
       "\n",
       "    .dataframe tbody tr th {\n",
       "        vertical-align: top;\n",
       "    }\n",
       "\n",
       "    .dataframe thead th {\n",
       "        text-align: right;\n",
       "    }\n",
       "</style>\n",
       "<table border=\"1\" class=\"dataframe\">\n",
       "  <thead>\n",
       "    <tr style=\"text-align: right;\">\n",
       "      <th></th>\n",
       "      <th>country</th>\n",
       "      <th>views</th>\n",
       "      <th>rank</th>\n",
       "      <th>views_ceil</th>\n",
       "    </tr>\n",
       "  </thead>\n",
       "  <tbody>\n",
       "    <tr>\n",
       "      <th>0</th>\n",
       "      <td>US</td>\n",
       "      <td>1000000000-9999999999</td>\n",
       "      <td>1</td>\n",
       "      <td>3194571000</td>\n",
       "    </tr>\n",
       "    <tr>\n",
       "      <th>1</th>\n",
       "      <td>GB</td>\n",
       "      <td>100000000-999999999</td>\n",
       "      <td>2</td>\n",
       "      <td>883167000</td>\n",
       "    </tr>\n",
       "    <tr>\n",
       "      <th>2</th>\n",
       "      <td>IN</td>\n",
       "      <td>100000000-999999999</td>\n",
       "      <td>3</td>\n",
       "      <td>734491000</td>\n",
       "    </tr>\n",
       "    <tr>\n",
       "      <th>3</th>\n",
       "      <td>CA</td>\n",
       "      <td>100000000-999999999</td>\n",
       "      <td>4</td>\n",
       "      <td>386835000</td>\n",
       "    </tr>\n",
       "    <tr>\n",
       "      <th>4</th>\n",
       "      <td>AU</td>\n",
       "      <td>100000000-999999999</td>\n",
       "      <td>5</td>\n",
       "      <td>240218000</td>\n",
       "    </tr>\n",
       "    <tr>\n",
       "      <th>...</th>\n",
       "      <td>...</td>\n",
       "      <td>...</td>\n",
       "      <td>...</td>\n",
       "      <td>...</td>\n",
       "    </tr>\n",
       "    <tr>\n",
       "      <th>195</th>\n",
       "      <td>MP</td>\n",
       "      <td>100000-999999</td>\n",
       "      <td>196</td>\n",
       "      <td>111000</td>\n",
       "    </tr>\n",
       "    <tr>\n",
       "      <th>196</th>\n",
       "      <td>GA</td>\n",
       "      <td>100000-999999</td>\n",
       "      <td>197</td>\n",
       "      <td>111000</td>\n",
       "    </tr>\n",
       "    <tr>\n",
       "      <th>197</th>\n",
       "      <td>BI</td>\n",
       "      <td>100000-999999</td>\n",
       "      <td>198</td>\n",
       "      <td>109000</td>\n",
       "    </tr>\n",
       "    <tr>\n",
       "      <th>198</th>\n",
       "      <td>NE</td>\n",
       "      <td>100000-999999</td>\n",
       "      <td>199</td>\n",
       "      <td>101000</td>\n",
       "    </tr>\n",
       "    <tr>\n",
       "      <th>199</th>\n",
       "      <td>CG</td>\n",
       "      <td>10000-99999</td>\n",
       "      <td>200</td>\n",
       "      <td>92000</td>\n",
       "    </tr>\n",
       "  </tbody>\n",
       "</table>\n",
       "<p>200 rows × 4 columns</p>\n",
       "</div>"
      ],
      "text/plain": [
       "    country                  views  rank  views_ceil\n",
       "0        US  1000000000-9999999999     1  3194571000\n",
       "1        GB    100000000-999999999     2   883167000\n",
       "2        IN    100000000-999999999     3   734491000\n",
       "3        CA    100000000-999999999     4   386835000\n",
       "4        AU    100000000-999999999     5   240218000\n",
       "..      ...                    ...   ...         ...\n",
       "195      MP          100000-999999   196      111000\n",
       "196      GA          100000-999999   197      111000\n",
       "197      BI          100000-999999   198      109000\n",
       "198      NE          100000-999999   199      101000\n",
       "199      CG            10000-99999   200       92000\n",
       "\n",
       "[200 rows x 4 columns]"
      ]
     },
     "execution_count": 12,
     "metadata": {},
     "output_type": "execute_result"
    }
   ],
   "source": [
    "df = pd.DataFrame.from_dict(countries)\n",
    "df.head(200)"
   ]
  },
  {
   "cell_type": "code",
   "execution_count": 13,
   "id": "41e51a11-0b31-4813-a715-2b684a79e1fb",
   "metadata": {},
   "outputs": [
    {
     "data": {
      "text/html": [
       "<div>\n",
       "<style scoped>\n",
       "    .dataframe tbody tr th:only-of-type {\n",
       "        vertical-align: middle;\n",
       "    }\n",
       "\n",
       "    .dataframe tbody tr th {\n",
       "        vertical-align: top;\n",
       "    }\n",
       "\n",
       "    .dataframe thead th {\n",
       "        text-align: right;\n",
       "    }\n",
       "</style>\n",
       "<table border=\"1\" class=\"dataframe\">\n",
       "  <thead>\n",
       "    <tr style=\"text-align: right;\">\n",
       "      <th></th>\n",
       "      <th>country</th>\n",
       "      <th>views</th>\n",
       "      <th>rank</th>\n",
       "      <th>views_ceil</th>\n",
       "    </tr>\n",
       "  </thead>\n",
       "  <tbody>\n",
       "    <tr>\n",
       "      <th>0</th>\n",
       "      <td>US</td>\n",
       "      <td>1000000000-9999999999</td>\n",
       "      <td>1</td>\n",
       "      <td>3194571000</td>\n",
       "    </tr>\n",
       "    <tr>\n",
       "      <th>1</th>\n",
       "      <td>GB</td>\n",
       "      <td>100000000-999999999</td>\n",
       "      <td>2</td>\n",
       "      <td>883167000</td>\n",
       "    </tr>\n",
       "    <tr>\n",
       "      <th>2</th>\n",
       "      <td>IN</td>\n",
       "      <td>100000000-999999999</td>\n",
       "      <td>3</td>\n",
       "      <td>734491000</td>\n",
       "    </tr>\n",
       "    <tr>\n",
       "      <th>3</th>\n",
       "      <td>CA</td>\n",
       "      <td>100000000-999999999</td>\n",
       "      <td>4</td>\n",
       "      <td>386835000</td>\n",
       "    </tr>\n",
       "    <tr>\n",
       "      <th>4</th>\n",
       "      <td>AU</td>\n",
       "      <td>100000000-999999999</td>\n",
       "      <td>5</td>\n",
       "      <td>240218000</td>\n",
       "    </tr>\n",
       "    <tr>\n",
       "      <th>...</th>\n",
       "      <td>...</td>\n",
       "      <td>...</td>\n",
       "      <td>...</td>\n",
       "      <td>...</td>\n",
       "    </tr>\n",
       "    <tr>\n",
       "      <th>236</th>\n",
       "      <td>CX</td>\n",
       "      <td>100-999</td>\n",
       "      <td>237</td>\n",
       "      <td>1000</td>\n",
       "    </tr>\n",
       "    <tr>\n",
       "      <th>237</th>\n",
       "      <td>NU</td>\n",
       "      <td>100-999</td>\n",
       "      <td>238</td>\n",
       "      <td>1000</td>\n",
       "    </tr>\n",
       "    <tr>\n",
       "      <th>238</th>\n",
       "      <td>TK</td>\n",
       "      <td>100-999</td>\n",
       "      <td>239</td>\n",
       "      <td>1000</td>\n",
       "    </tr>\n",
       "    <tr>\n",
       "      <th>239</th>\n",
       "      <td>KP</td>\n",
       "      <td>100-999</td>\n",
       "      <td>240</td>\n",
       "      <td>1000</td>\n",
       "    </tr>\n",
       "    <tr>\n",
       "      <th>240</th>\n",
       "      <td>SJ</td>\n",
       "      <td>100-999</td>\n",
       "      <td>241</td>\n",
       "      <td>1000</td>\n",
       "    </tr>\n",
       "  </tbody>\n",
       "</table>\n",
       "<p>241 rows × 4 columns</p>\n",
       "</div>"
      ],
      "text/plain": [
       "    country                  views  rank  views_ceil\n",
       "0        US  1000000000-9999999999     1  3194571000\n",
       "1        GB    100000000-999999999     2   883167000\n",
       "2        IN    100000000-999999999     3   734491000\n",
       "3        CA    100000000-999999999     4   386835000\n",
       "4        AU    100000000-999999999     5   240218000\n",
       "..      ...                    ...   ...         ...\n",
       "236      CX                100-999   237        1000\n",
       "237      NU                100-999   238        1000\n",
       "238      TK                100-999   239        1000\n",
       "239      KP                100-999   240        1000\n",
       "240      SJ                100-999   241        1000\n",
       "\n",
       "[241 rows x 4 columns]"
      ]
     },
     "execution_count": 13,
     "metadata": {},
     "output_type": "execute_result"
    }
   ],
   "source": [
    "df.to_csv('countries.csv', index=False)\n",
    "\n",
    "df"
   ]
  },
  {
   "cell_type": "code",
   "execution_count": 14,
   "id": "3e834bd5-8c69-4051-8efe-9537eea3622f",
   "metadata": {},
   "outputs": [],
   "source": [
    "df['views_min'] = df.apply(lambda row: int(row.views.split('-')[0]), axis = 1)\n",
    "views_min =df.copy()\n",
    "\n",
    "views_min.to_csv('countries_with_minimum_views.csv', index=False)"
   ]
  },
  {
   "cell_type": "code",
   "execution_count": 15,
   "id": "b6ca511f-8751-4987-b19f-62bb83324a29",
   "metadata": {},
   "outputs": [],
   "source": [
    "df.to_csv('countries_with_minimum_views.csv', index=False)\n"
   ]
  },
  {
   "cell_type": "code",
   "execution_count": 16,
   "id": "e3dd7d95-e210-429e-9dd3-0999e86feb6f",
   "metadata": {},
   "outputs": [],
   "source": [
    "worldmap =  pygal.maps.world.World()\n",
    "worldmap.title = 'Countries'\n",
    "  \n",
    "# adding the countries \n",
    "# worldmap.add('Wikipedia views', {key.lower() : int(value) for key,value in zip(df['country'],df['views_ceil'])}) \n"
   ]
  },
  {
   "cell_type": "code",
   "execution_count": 17,
   "id": "41604dfb-2374-4f8a-8a94-b0311633800e",
   "metadata": {},
   "outputs": [
    {
     "data": {
      "text/plain": [
       "0      3194571000\n",
       "1       883167000\n",
       "2       734491000\n",
       "3       386835000\n",
       "4       240218000\n",
       "          ...    \n",
       "236          1000\n",
       "237          1000\n",
       "238          1000\n",
       "239          1000\n",
       "240          1000\n",
       "Name: views_ceil, Length: 241, dtype: int64"
      ]
     },
     "execution_count": 17,
     "metadata": {},
     "output_type": "execute_result"
    }
   ],
   "source": [
    "df['views_ceil']"
   ]
  },
  {
   "cell_type": "code",
   "execution_count": 18,
   "id": "d6b8efc3-4817-4d5c-ae62-4f8e206a3a6d",
   "metadata": {},
   "outputs": [],
   "source": [
    "old_min = min(df['views_ceil'])\n",
    "old_max = max(df['views_ceil'])"
   ]
  },
  {
   "cell_type": "code",
   "execution_count": 19,
   "id": "3cd56476-1211-4743-8b8d-69c068f92e8f",
   "metadata": {},
   "outputs": [
    {
     "name": "stdout",
     "output_type": "stream",
     "text": [
      "1000 3194571000\n"
     ]
    }
   ],
   "source": [
    "print(old_min, old_max)"
   ]
  },
  {
   "cell_type": "code",
   "execution_count": 20,
   "id": "4a4f4344-99e5-41c8-80cf-7028f1aee6dd",
   "metadata": {},
   "outputs": [
    {
     "name": "stdout",
     "output_type": "stream",
     "text": [
      "[1, 2, 3, 4, 5, 6, 7, 8]\n",
      "{100: 1, 1000: 2, 10000: 3, 100000: 4, 1000000: 5, 10000000: 6, 100000000: 7, 1000000000: 8}\n",
      "[8, 7, 7, 7, 7, 7, 7, 6, 6, 6, 6, 6, 6, 6, 6, 6, 6, 6, 6, 6, 6, 6, 6, 6, 6, 6, 6, 6, 6, 6, 6, 6, 6, 6, 6, 6, 6, 6, 6, 6, 6, 6, 6, 6, 6, 6, 6, 6, 6, 6, 6, 6, 6, 6, 6, 6, 6, 6, 6, 6, 5, 5, 5, 5, 5, 5, 5, 5, 5, 5, 5, 5, 5, 5, 5, 5, 5, 5, 5, 5, 5, 5, 5, 5, 5, 5, 5, 5, 5, 5, 5, 5, 5, 5, 5, 5, 5, 5, 5, 5, 5, 5, 5, 5, 5, 5, 5, 5, 5, 5, 5, 5, 5, 5, 5, 5, 5, 5, 5, 5, 5, 5, 5, 5, 5, 5, 5, 4, 4, 4, 4, 4, 4, 4, 4, 4, 4, 4, 4, 4, 4, 4, 4, 4, 4, 4, 4, 4, 4, 4, 4, 4, 4, 4, 4, 4, 4, 4, 4, 4, 4, 4, 4, 4, 4, 4, 4, 4, 4, 4, 4, 4, 4, 4, 4, 4, 4, 4, 4, 4, 4, 4, 4, 4, 4, 4, 4, 4, 4, 4, 4, 4, 4, 4, 4, 4, 4, 4, 4, 3, 3, 3, 3, 3, 3, 3, 3, 3, 3, 3, 3, 3, 3, 3, 3, 3, 3, 3, 3, 3, 3, 3, 3, 3, 3, 3, 3, 3, 3, 3, 2, 2, 2, 2, 2, 1, 1, 1, 1, 1, 1]\n",
      "{'us': 8, 'gb': 7, 'in': 7, 'ca': 7, 'au': 7, 'de': 7, 'ph': 7, 'nl': 6, 'id': 6, 'fr': 6, 'ir': 6, 'it': 6, 'my': 6, 'ie': 6, 'br': 6, 'se': 6, 'pl': 6, 'sg': 6, 'za': 6, 'nz': 6, 'es': 6, 'pk': 6, 'ru': 6, 'jp': 6, 'fi': 6, 'ng': 6, 'mx': 6, 'tr': 6, 'bd': 6, 'ro': 6, 'gr': 6, 'be': 6, 'th': 6, 'no': 6, 'dk': 6, 'hk': 6, 'ae': 6, 'ch': 6, 'il': 6, 'hu': 6, 'rs': 6, 'cz': 6, 'pt': 6, 'vn': 6, 'kr': 6, 'at': 6, 'hr': 6, 'sa': 6, 'bg': 6, 'eg': 6, 'tw': 6, 'ar': 6, 'ua': 6, 'ke': 6, 'lk': 6, 'np': 6, 'sk': 6, 'cl': 6, 'co': 6, 'si': 6, 'lt': 5, 'ee': 5, 'ma': 5, 'gh': 5, 'pe': 5, 'ba': 5, 'ge': 5, 'lv': 5, 'iq': 5, 'mk': 5, 'pr': 5, 'qa': 5, 'dz': 5, 'et': 5, 'kz': 5, 'az': 5, 'tz': 5, 'kw': 5, 'mm': 5, 'cy': 5, 'is': 5, 'al': 5, 've': 5, 'kh': 5, 'lb': 5, 'cr': 5, 'mt': 5, '--': 5, 'do': 5, 'ug': 5, 'tn': 5, 'jo': 5, 'tt': 5, 'uz': 5, 'lu': 5, 'jm': 5, 'by': 5, 'am': 5, 'ec': 5, 'bh': 5, 'om': 5, 'mu': 5, 'uy': 5, 'md': 5, 'pa': 5, 'mn': 5, 'me': 5, 'zm': 5, 'xk': 5, 'gt': 5, 'zw': 5, 'bn': 5, 'sd': 5, 'bo': 5, 'hn': 5, 'mv': 5, 'cm': 5, 'sv': 5, 'so': 5, 'je': 5, 'bs': 5, 'im': 5, 'py': 5, 'ly': 5, 'bb': 5, 'rw': 5, 'ps': 5, 'na': 4, 'kg': 4, 'bw': 4, 'af': 4, 'mw': 4, 'ao': 4, 'gy': 4, 'ni': 4, 'sy': 4, 'lr': 4, 'ye': 4, 'mo': 4, 'fj': 4, 'sl': 4, 'ci': 4, 'cd': 4, 'cu': 4, 'gu': 4, 'gg': 4, 'sn': 4, 'mz': 4, 'la': 4, 'tm': 4, 'cn': 4, 'sr': 4, 'sc': 4, 'bz': 4, 'pg': 4, 'ky': 4, 'aw': 4, 'bt': 4, 'bm': 4, 'fo': 4, 'cw': 4, 'mg': 4, 'lc': 4, 'gi': 4, 'vi': 4, 'bj': 4, 'ss': 4, 'ht': 4, 'gm': 4, 're': 4, 'gd': 4, 'tj': 4, 'ag': 4, 'ls': 4, 'tg': 4, 'sz': 4, 'cv': 4, 'vc': 4, 'ml': 4, 'mc': 4, 'ad': 4, 'mr': 4, 'gn': 4, 'ax': 4, 'kn': 4, 'tc': 4, 'bf': 4, 'gp': 4, 'dj': 4, 'sx': 4, 'dm': 4, 'vg': 4, 'gl': 4, 'mq': 4, 'pf': 4, 'mp': 4, 'ga': 4, 'bi': 4, 'ne': 4, 'cg': 3, 'li': 3, 'vu': 3, 'nc': 3, 'bq': 3, 'sb': 3, 'tl': 3, 'ws': 3, 'gf': 3, 'ai': 3, 'mf': 3, 'td': 3, 'sm': 3, 'as': 3, 'gq': 3, 'pw': 3, 'er': 3, 'fk': 3, 'to': 3, 'ck': 3, 'gw': 3, 'fm': 3, 'mh': 3, 'bl': 3, 'yt': 3, 'cf': 3, 'km': 3, 'nr': 3, 'ki': 3, 'ms': 3, 'va': 3, 'io': 2, 'st': 2, 'pm': 2, 'nf': 2, 'tv': 2, 'wf': 1, 'cx': 1, 'nu': 1, 'tk': 1, 'kp': 1, 'sj': 1}\n"
     ]
    }
   ],
   "source": [
    "def normalize(value, old_min, old_max, new_min=1, new_max=100):\n",
    "    return ((value - old_min)/(old_max - new_max)) * (new_max-new_min) + new_min\n",
    "\n",
    "intervals = set(df['views_min'])\n",
    "normalized_colors = [np.int64(normalize(value, old_min, old_max)) for value in df['views_min']]\n",
    "\n",
    "intervals = sorted(intervals)\n",
    "colors = []\n",
    "for i, _ in enumerate(intervals):\n",
    "    colors.append(i + 1)\n",
    "\n",
    "\n",
    "print(colors)\n",
    "color_map = {k:v for k,v in zip(intervals, colors)}\n",
    "\n",
    "print(color_map)\n",
    "\n",
    "mapped_colors = [color_map[each] for each in df['views_min']]\n",
    "\n",
    "print(mapped_colors)\n",
    "\n",
    "country_views = {key.lower() : int(value) for key, value in zip(df['country'], mapped_colors)}\n",
    "\n",
    "print(country_views)"
   ]
  },
  {
   "cell_type": "code",
   "execution_count": 21,
   "id": "42bd1387-eb05-4aec-9c4b-1d011abf4114",
   "metadata": {},
   "outputs": [],
   "source": [
    "worldmap.add(\"wikipedia views\", country_views)\n",
    "worldmap.render_to_file('harta.svg')"
   ]
  },
  {
   "cell_type": "code",
   "execution_count": 22,
   "id": "62441901-7e30-49c4-be85-49179b0b3760",
   "metadata": {},
   "outputs": [],
   "source": [
    "worldmap.render_to_file('harta.jpg')"
   ]
  },
  {
   "cell_type": "code",
   "execution_count": null,
   "id": "969e61f4-105f-41fb-b5ec-6a5126610ce2",
   "metadata": {},
   "outputs": [],
   "source": []
  }
 ],
 "metadata": {
  "kernelspec": {
   "display_name": "Python 3 (ipykernel)",
   "language": "python",
   "name": "python3"
  },
  "language_info": {
   "codemirror_mode": {
    "name": "ipython",
    "version": 3
   },
   "file_extension": ".py",
   "mimetype": "text/x-python",
   "name": "python",
   "nbconvert_exporter": "python",
   "pygments_lexer": "ipython3",
   "version": "3.13.1"
  }
 },
 "nbformat": 4,
 "nbformat_minor": 5
}
